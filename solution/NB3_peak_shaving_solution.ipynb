{
 "cells": [
  {
   "cell_type": "markdown",
   "metadata": {},
   "source": [
    "# Peak shaving and optimization\n",
    "\n",
    "The power grid is designed to provide a reliable service. This often means that components are dimensioned to support the highest anticipated demand even if this occurs rarely. High load power peaks are undesirable, since they lead to oversized expensive infrastructure to avoid grid disruptions.\n",
    "\n",
    "To persuade big consumers to reduce their peak power, their electricity bill includes, besides the regular energy consumption costs, charges for the maximum power measured during the billing period.\n",
    "The consumers could reduce costs by adapting their consumption behavior, accommodating more flexible loads to low consumption times.\n",
    "An alternative if this flexibility is not available, is to introduce a battery storage system to shift the loads and perform peak-shaving.\n",
    "Overall the load profile will be flattened, while the consumption remains the same.\n",
    "\n",
    "In this notebook we will:\n",
    "* Explore peak-shaving with energy storage as a way to reduce power peak costs.\n",
    "* Use optimization models to determine the peak-shaving strategy.\n",
    "* Extend our optimization models to size our storage system."
   ]
  },
  {
   "cell_type": "code",
   "execution_count": null,
   "metadata": {},
   "outputs": [],
   "source": [
    "import pandas as pd\n",
    "import pyomo.environ as opt\n",
    "import plotly.graph_objects as go"
   ]
  },
  {
   "cell_type": "code",
   "execution_count": null,
   "metadata": {},
   "outputs": [],
   "source": [
    "pd.options.plotting.backend = \"plotly\"\n",
    "template = \"plotly_white\"\n",
    "# template = \"plotly_dark\""
   ]
  },
  {
   "cell_type": "markdown",
   "metadata": {},
   "source": [
    "## Use case - dataset and base-scenario definition\n",
    "For our example we take an industrial profile from the [*Standard Battery Application Profiles (SBAP)*](https://doi.org/10.1016/j.est.2019.101077). For simplicity, we will consider a single billing period of 1 month."
   ]
  },
  {
   "cell_type": "code",
   "execution_count": null,
   "metadata": {
    "tags": []
   },
   "outputs": [],
   "source": [
    "# load profile\n",
    "profile = pd.read_csv(\"../data/industry_profile.csv\", index_col=0, parse_dates=True)\n",
    "profile.plot(template=template, labels={\"value\": \"Power [kW]\"})"
   ]
  },
  {
   "cell_type": "markdown",
   "metadata": {},
   "source": [
    "<div class=\"alert alert-block alert-info\">\n",
    "<b>Task!</b> Calculate energy consumption, peak power and the resulting electricity bill.\n",
    "</div>"
   ]
  },
  {
   "cell_type": "markdown",
   "metadata": {},
   "source": [
    "<div class=\"alert alert-block alert-warning\">\n",
    "<b>Hint!</b> Hint! Pay attention when converting power to energy. </li>\n",
    "</div>"
   ]
  },
  {
   "cell_type": "code",
   "execution_count": null,
   "metadata": {
    "scrolled": true
   },
   "outputs": [],
   "source": [
    "# cost\n",
    "electricity_cost =   0.12 # €/kWh\n",
    "peak_power_cost  = 120.00 # €/kW"
   ]
  },
  {
   "cell_type": "code",
   "execution_count": null,
   "metadata": {},
   "outputs": [],
   "source": [
    "# task\n",
    "def baseline_analysis(profile, electricity_cost, peak_power_cost):\n",
    "    demand = profile.sum() * 0.25\n",
    "    peak = profile.max()\n",
    "    cost = demand * electricity_cost + peak * peak_power_cost\n",
    "    print(f\"Consumption: {demand:10.2f} kWh\")\n",
    "    print(f\"Peak power:  {peak:10.2f} kW\")\n",
    "    print(f\"Total costs: {cost:10.2f} €\")"
   ]
  },
  {
   "cell_type": "code",
   "execution_count": null,
   "metadata": {},
   "outputs": [],
   "source": [
    "# task\n",
    "print(\"--- without storage ---\")\n",
    "baseline_analysis(profile[\"load\"], electricity_cost, peak_power_cost)"
   ]
  },
  {
   "cell_type": "markdown",
   "metadata": {},
   "source": [
    "## Optimization model - Operation\n",
    "\n",
    "An energy storage system can reduce costs by performing peak shaving. But how exactly should it operate? \n",
    "\n",
    "We can define a target maximum power peak and charge or discharge the storage depending on if the load is currently above or below this threshold.\n",
    "Defining a peak target could be nonetheless difficult, if the threshold is too high the storage system may not be used at its full potential, if it is too low, the storage system would not be able to fulfil it.\n",
    "\n",
    "We can instead use mathematical optimization techniques to find the optimal storage charge/discharge schedule to best fulfill the task. The [*pyomo* library](https://www.pyomo.org/) allows us to easily formulate *linear programming* models with python."
   ]
  },
  {
   "cell_type": "markdown",
   "metadata": {},
   "source": [
    "<div class=\"alert alert-block alert-info\">\n",
    "<b>Task!</b> Formulate and optimize the model\n",
    "<ul>\n",
    "    <li> Formulate the optimization problem in a markdown cell using \\( \\LaTeX \\). </li>\n",
    "    <li> Create a function <code>build_model</code> that takes storage system parameters <code>storage_params</code>, load profile <code>load_profile</code>, electricity costs <code>electricity_cost</code>, peak costs <code>peak_power_cost</code> and returns a pyomo optimization model <code>model</code>. </li>\n",
    "    <li> Build the model based on the given storage parameters and optimize it with the GLPK solver. </li>\n",
    "    <li> Recover the optimization results. Combine the time series results togther in a dataframe with the load profile. Make the following plots:\n",
    "    <ul>\n",
    "        <li> Load profile and grid power in the same plot. </li>\n",
    "        <li> Storage power. </li>\n",
    "        <li> Storage energy content or SOC. </li>\n",
    "    </ul>\n",
    "    </li>\n",
    "    <li> Calculate the new total consumption, peak-power and total costs. Evaluate the improvements against the scenario without storage system. </li>\n",
    "    \n",
    "</ul>\n",
    "</div>"
   ]
  },
  {
   "cell_type": "markdown",
   "metadata": {},
   "source": [
    "<div class=\"alert alert-block alert-warning\">\n",
    "<b>Hint!</b> Read the <a href=\"https://pyomo.readthedocs.io/en/stable/\">pyomo documentation</a>. </li>\n",
    "</div>"
   ]
  },
  {
   "cell_type": "markdown",
   "metadata": {},
   "source": [
    "$$\n",
    "\\begin{aligned}\n",
    "&\\min \\sum_{T}(p^{grid,buy}_t \\cdot \\Delta t) \\cdot k^{electricity} + p^{peak} \\cdot k^{peak} \\\\\n",
    "s.t.  &  \\\\\n",
    "0 &\\leq p^{ch}_t, \\leq p^{N} \\quad &\\forall t \\in T \\\\\n",
    "0 &\\leq p^{dch}_t, \\leq p^{N} \\quad &\\forall t \\in T \\\\\n",
    "E^N \\cdot SOC^{min} &\\leq E^{bess}_t \\leq E^N \\cdot SOC^{max} \\quad &\\forall t \\in T \\\\\n",
    "E^{bess}_t &= E^{bess}_{t-1} + p^{ch}_t \\Delta t \\cdot \\eta^{ch} - p^{dch}_t \\Delta t \\cdot (1/\\eta^{dch}) \\quad &\\forall t \\in T \\\\\n",
    "E^{bess}_{t=0} &= E^{N} \\cdot SOC^{init} \\\\ \n",
    "E^{bess}_{t=end} &\\geq E^{N} \\cdot SOC^{init} \\\\ \n",
    "p^{grid,buy}_t + p^{dch}_t &= p^{load}_t + p^{ch}_t \\quad &\\forall t \\in T \\\\\n",
    "p^{grid,buy}_t &\\geq 0 \\quad &\\forall t \\in T \\\\\n",
    "p^{peak} &\\geq 0  \\\\\n",
    "p^{grid,buy}_t &\\leq p^{peak} \\quad &\\forall t \\in T \\\\\n",
    "\\end{aligned}\n",
    "$$\n",
    "\n",
    "**Variables**: Energy charge state at $t$ timestep $E^{bess}$, charge power at $t$ timestep $p^{ch}_t$, discharge power at $t$ timestep $p^{ch}_t$, grid power supply at $t$ timestep $p^{grid,buy}_t$, peak power $p^{peak}$.\n",
    "\n",
    "**Parameters**: Storage system installed capacity $E^{N}$, storage system installed power $p^{N}$, electricity cost $k^{electricity}$, peak power cost $p^{peak}$, lower SOC limit $SOC^{min}$, upper SOC limit $SOC^{min}$, start SOC value $SOC^{init}$, charge efficiency $\\eta^{ch}$, discharge efficiency $\\eta^{dch}$, power demand at $t$ timestep $p^{load}_t$."
   ]
  },
  {
   "cell_type": "code",
   "execution_count": null,
   "metadata": {},
   "outputs": [],
   "source": [
    "# Storage parameters\n",
    "storage_params = {\n",
    "    \"capacity\": 200.0,  # kWh\n",
    "    \"power\": 200.0,      # kW\n",
    "    \n",
    "    \"soc_bounds\": (0.1, 0.9),\n",
    "    \"soc_start\": 0.0,\n",
    "\n",
    "    \"effc\": 0.9,     # charge efficiency\n",
    "    \"effd\": 0.9,     # discharge efficiency\n",
    "}"
   ]
  },
  {
   "cell_type": "code",
   "execution_count": null,
   "metadata": {},
   "outputs": [],
   "source": [
    "# task\n",
    "def build_model(storage_params, load_profile, electricity_cost, peak_power_cost):\n",
    "    # Optimization model\n",
    "    model = opt.ConcreteModel()\n",
    "\n",
    "    ## =====  Parameters  ===== ##\n",
    "    n = len(load_profile)   # number of timesteps\n",
    "    model.time = opt.RangeSet(0, n-1) # T\n",
    "    dt = 0.25               # 15 min timesteps\n",
    "\n",
    "    capacity  = storage_params[\"capacity\"]\n",
    "    max_power = storage_params[\"power\"]\n",
    "    \n",
    "    soc_min, soc_max = storage_params[\"soc_bounds\"]\n",
    "    soc_start = storage_params[\"soc_start\"]\n",
    "\n",
    "    effc  = storage_params[\"effc\"]\n",
    "    effd  = storage_params[\"effd\"]\n",
    "\n",
    "    ## =====  Variables  ===== ##\n",
    "    # BESS: power charge/discharge, energy content\n",
    "    model.power_charge    = opt.Var(model.time, bounds=(0.0, max_power))\n",
    "    model.power_discharge = opt.Var(model.time, bounds=(0.0, max_power))\n",
    "    model.energy_bess     = opt.Var(model.time, bounds=(soc_min * capacity, soc_max * capacity))\n",
    "\n",
    "    # Grid: power, peak-power limit (for peak-shaving)\n",
    "    model.grid_power = opt.Var(model.time, within=opt.NonNegativeReals)\n",
    "    model.peak_power = opt.Var(within=opt.NonNegativeReals)\n",
    "\n",
    "\n",
    "    ## =====  Objective  ===== ##\n",
    "    def objective_rule(m):\n",
    "        return sum(m.grid_power) * dt * electricity_cost + m.peak_power * peak_power_cost\n",
    "    \n",
    "    model.obj = opt.Objective(sense=opt.minimize, rule = objective_rule)\n",
    "\n",
    "\n",
    "    ## ===== Constraints ===== ##\n",
    "    # SOC balance\n",
    "    def energy_balance_rule(m, t):\n",
    "        if t == m.time.first(): #\n",
    "            return m.energy_bess[t] == soc_start * capacity + dt * (effc * m.power_charge[t] - (1/effd) * m.power_discharge[t])\n",
    "        return m.energy_bess[t] == m.energy_bess[t-1] + dt * (effc * m.power_charge[t] - (1/effd) * m.power_discharge[t])\n",
    "    \n",
    "    model.constraint_energy_balance = opt.Constraint(model.time, rule=energy_balance_rule)\n",
    "\n",
    "    # SOC end conditions\n",
    "    def energy_end_rule(m):\n",
    "        return m.energy_bess[m.time.last()] >= soc_start * capacity\n",
    "    \n",
    "    model.constraint_energy_end = opt.Constraint(rule=energy_end_rule)\n",
    "\n",
    "    # power balance\n",
    "    def power_balance_rule(m, t):\n",
    "        return m.grid_power[t] + m.power_discharge[t] - m.power_charge[t] == load_profile.load[t]\n",
    "\n",
    "    model.constraint_power_balance = opt.Constraint(model.time, rule=power_balance_rule)\n",
    "\n",
    "    # peak\n",
    "    def peak_power_rule(m, t):\n",
    "        return m.grid_power[t] <= m.peak_power\n",
    "    \n",
    "    model.constraint_peak_power = opt.Constraint(model.time, rule=peak_power_rule)\n",
    "\n",
    "    return model"
   ]
  },
  {
   "cell_type": "code",
   "execution_count": null,
   "metadata": {},
   "outputs": [],
   "source": [
    "# task\n",
    "model = build_model(\n",
    "    storage_params=storage_params, \n",
    "    load_profile=profile, \n",
    "    electricity_cost=electricity_cost, \n",
    "    peak_power_cost=peak_power_cost\n",
    ")"
   ]
  },
  {
   "cell_type": "code",
   "execution_count": null,
   "metadata": {},
   "outputs": [],
   "source": [
    "# task\n",
    "solver = opt.SolverFactory('glpk')  # glpk is an open source LP solver"
   ]
  },
  {
   "cell_type": "code",
   "execution_count": null,
   "metadata": {},
   "outputs": [],
   "source": [
    "#task\n",
    "status = solver.solve(model, tee=True)"
   ]
  },
  {
   "cell_type": "code",
   "execution_count": null,
   "metadata": {},
   "outputs": [],
   "source": [
    "def recover_results(model, profile):\n",
    "    df = profile.copy() # Solutions dataframe\n",
    "\n",
    "    df[\"power\"] = [opt.value(model.power_charge[t]) - opt.value(model.power_discharge[t]) for t in model.time]\n",
    "    df[\"energy\"]   = [opt.value(model.energy_bess[t]) for t in model.time]\n",
    "    df[\"grid\"]  = [opt.value(model.grid_power[t]) for t in model.time]\n",
    "\n",
    "    return df"
   ]
  },
  {
   "cell_type": "code",
   "execution_count": null,
   "metadata": {},
   "outputs": [],
   "source": [
    "def analyze_results(df, electricity_cost, peak_power_cost):\n",
    "    peak = df[\"load\"].max()\n",
    "    demand = df[\"load\"].sum() * 0.25\n",
    "    cost = demand * electricity_cost + peak * peak_power_cost\n",
    "    \n",
    "    opt_peak = df[\"grid\"].max()\n",
    "    opt_demand = df[\"grid\"].sum() * 0.25\n",
    "    opt_cost = opt_demand * electricity_cost + opt_peak * peak_power_cost\n",
    "    \n",
    "    delta_cost = (opt_cost - cost)/cost\n",
    "    delta_peak = (opt_peak - peak)/peak\n",
    "    delta_demand = (opt_demand - demand)/demand\n",
    "    \n",
    "    print(f\"Consumption: {opt_demand:10.2f} kWh ({delta_demand:+7.2%})\")\n",
    "    print(f\"Peak power:  {opt_peak:10.2f} kW  ({delta_peak:+7.2%})\")\n",
    "    print(f\"Total costs: {opt_cost:10.2f} €   ({delta_cost:+7.2%})\")\n"
   ]
  },
  {
   "cell_type": "code",
   "execution_count": null,
   "metadata": {},
   "outputs": [],
   "source": [
    "solution = recover_results(model, profile)\n",
    "print(\"--- with storage ---\")\n",
    "analyze_results(solution, electricity_cost, peak_power_cost)"
   ]
  },
  {
   "cell_type": "code",
   "execution_count": null,
   "metadata": {},
   "outputs": [],
   "source": [
    "def plot_storage_power(profile, model):\n",
    "    powerc = [opt.value(model.power_charge[t]) for t in model.time]\n",
    "    powerd = [- opt.value(model.power_discharge[t]) for t in model.time]\n",
    "    \n",
    "    fig = go.Figure()\n",
    "    fig.update_layout(template=template)\n",
    "    fig.add_trace(go.Scatter(x=profile.index, y=powerc, name=\"Power charge\"))\n",
    "    fig.add_trace(go.Scatter(x=profile.index, y=powerd, name=\"Power discharge\"))\n",
    "    fig.update_yaxes(title=\"Power [kW]\")\n",
    "    fig.update_traces(line_shape=\"hv\")\n",
    "    return fig"
   ]
  },
  {
   "cell_type": "code",
   "execution_count": null,
   "metadata": {},
   "outputs": [],
   "source": [
    "solution[[\"load\", \"grid\"]].plot(template=template, labels={\"value\": \"Power [kW]\"})"
   ]
  },
  {
   "cell_type": "code",
   "execution_count": null,
   "metadata": {},
   "outputs": [],
   "source": [
    "plot_storage_power(profile, model)"
   ]
  },
  {
   "cell_type": "code",
   "execution_count": null,
   "metadata": {},
   "outputs": [],
   "source": [
    "solution[\"energy\"].plot(template=template, labels={\"value\": \"Energy [kWh]\"})"
   ]
  },
  {
   "cell_type": "markdown",
   "metadata": {},
   "source": [
    "## System dimension\n",
    "\n",
    "We have succesfully optimized our storage operation to minimizes costs. This was done with a predefined system. But what if we find ourselfs on the planning stage, contemplating the idea of aquiring a storage system to perform peak shaving? The storage system comes with respective investment costs, so me might want to \n",
    "re-formulate the optimization problem with a further degree of freedom to find the best system size that minimizes the total costs.\n",
    "\n",
    "Two storage system are considered, their specific costs and efficiency are described in the following table:\n",
    "\n",
    "|                                   | Storage System 1  | Sotrage System 2  |\n",
    "|:---------------------------------:|:-----------------:|:-----------------:|\n",
    "| Specific capacity costs           | 50.00 €/kWh       | 15.00 €/kWh       |\n",
    "| Specific power costs              | 20.00 €/kW        | 45.00 €/kW        |\n",
    "| Efficiency charge ; discharge     | 95% ; 95%         | 90%  ; 90%        |"
   ]
  },
  {
   "cell_type": "markdown",
   "metadata": {},
   "source": [
    "<div class=\"alert alert-block alert-info\">\n",
    "<b>Task!</b> Formulate and optimize the dimensioning model\n",
    "<ul>\n",
    "    <li> Formulate the optimal sizing problem in a markdown cell using \\( \\LaTeX \\). </li>\n",
    "    <li> Create a function <code>build_dimension_model</code> that takes storage system parameters <code>storage_params</code>, load profile <code>load_profile</code>, electricity costs <code>electricity_cost</code>, peak costs <code>peak_power_cost</code> and returns a pyomo optimization model <code>model</code>. </li>\n",
    "    <li> Build the model based on the given storage parameters and optimize it with the GLPK solver. </li>\n",
    "    <li> Recover the optimization results. Combine the load profile and the time series results of both storage systems in a dataframe. Make the following plots:\n",
    "    <ul>\n",
    "        <li> Load profile and grid power in the same plot. </li>\n",
    "        <li> Storage power. </li>\n",
    "        <li> Storage energy content or SOC. </li>\n",
    "    </ul>\n",
    "    </li>\n",
    "    <li> Calculate the new total consumption, peak-power and total costs for both systems. Which system would you choose? Give your arguments in a markdown cell. </li>\n",
    "    \n",
    "</ul>\n",
    "</div>"
   ]
  },
  {
   "cell_type": "markdown",
   "metadata": {},
   "source": [
    "$$\n",
    "\\begin{aligned}\n",
    "&\\min \\sum_{T}(p^{grid,buy}_t \\cdot \\Delta t) \\cdot k^{electricity} + p^{peak} \\cdot k^{peak} + p^{N} \\cdot k^{inv,P} + E^{N} \\cdot k^{inv, E} \\\\\n",
    "s.t.  &  \\\\\n",
    "0 &\\leq p^{ch}_t, \\leq p^{N} \\quad &\\forall t \\in T \\\\\n",
    "0 &\\leq p^{dch}_t, \\leq p^{N} \\quad &\\forall t \\in T \\\\\n",
    "E^N \\cdot SOC^{min} &\\leq E^{bess}_t \\leq E^N \\cdot SOC^{max} \\quad &\\forall t \\in T \\\\\n",
    "E^{bess}_t &= E^{bess}_{t-1} + p^{ch}_t \\Delta t \\cdot \\eta^{ch} - p^{dch}_t \\Delta t \\cdot (1/\\eta^{dch}) \\quad &\\forall t \\in T \\\\\n",
    "E^{bess}_{t=0} &= E^{N} \\cdot SOC^{init} \\\\ \n",
    "E^{bess}_{t=8760} &\\geq E^{N} \\cdot SOC^{init} \\\\ \n",
    "p^{grid,buy}_t + p^{dch}_t &= p^{load}_t + p^{ch}_t \\quad &\\forall t \\in T \\\\\n",
    "p^{grid,buy}_t &\\geq 0 \\quad &\\forall t \\in T \\\\\n",
    "p^{peak} &\\geq 0  \\\\\n",
    "p^{grid,buy}_t &\\leq p^{peak} \\quad &\\forall t \\in T \\\\\n",
    "\\end{aligned}\n",
    "$$\n",
    "\n",
    "**Variables**: Storage system installed capacity $E^{N}$, storage system installed power $p^{N}$, energy charge state at $t$ timestep $E^{bess}$, charge power at $t$ timestep $p^{ch}_t$, discharge power at $t$ timestep $p^{ch}_t$, grid power supply at $t$ timestep $p^{grid,buy}_t$, peak power $p^{peak}$.\n",
    "\n",
    "**Parameters**: Energy capacity specific investment costs $k^{inv,E}$, power specific investment costs $k^{inv,E}$, electricity cost $k^{electricity}$, peak power cost $p^{peak}$, lower SOC limit $SOC^{min}$, upper SOC limit $SOC^{min}$, start SOC value $SOC^{init}$, charge efficiency $\\eta^{ch}$, discharge efficiency $\\eta^{dch}$, power demand at $t$ timestep $p^{load}_t$."
   ]
  },
  {
   "cell_type": "code",
   "execution_count": null,
   "metadata": {},
   "outputs": [],
   "source": [
    "# Storage parameters\n",
    "storage1_params = {\n",
    "    \"capacity_cost\": 50.00,  # €/kWh\n",
    "    \"power_cost\": 20.00,      # €/kW\n",
    "\n",
    "    \"soc_bounds\": (0.1, 0.9),\n",
    "    \"soc_start\": 0.0,\n",
    "\n",
    "    \"effc\": 0.95,     # charge efficiency\n",
    "    \"effd\": 0.95,     # discharge efficiency\n",
    "}\n",
    "\n",
    "storage2_params = {\n",
    "    \"capacity_cost\": 15.00,  # €/kWh\n",
    "    \"power_cost\": 45.00,      # €/kW\n",
    "\n",
    "    \"soc_bounds\": (0.1, 0.9),\n",
    "    \"soc_start\": 0.0,\n",
    "\n",
    "    \"effc\": 0.9,     # charge efficiency\n",
    "    \"effd\": 0.9,     # discharge efficiency\n",
    "}"
   ]
  },
  {
   "cell_type": "code",
   "execution_count": null,
   "metadata": {},
   "outputs": [],
   "source": [
    "def build_dimension_model(storage_params, load_profile, electricity_cost, peak_power_cost):\n",
    "    # Optimization model\n",
    "    model = opt.ConcreteModel()\n",
    "\n",
    "    ## =====  Parameters  ===== ##\n",
    "    n = len(load_profile)   # number of timesteps\n",
    "    model.time = opt.RangeSet(0, n-1) # T\n",
    "    dt = 0.25               # 15 min timesteps\n",
    "    \n",
    "    capacity_cost = storage_params[\"capacity_cost\"]\n",
    "    power_cost = storage_params[\"power_cost\"]\n",
    "    \n",
    "    soc_min, soc_max = storage_params[\"soc_bounds\"]\n",
    "    soc_start = storage_params[\"soc_start\"]\n",
    "\n",
    "    effc  = storage_params[\"effc\"]\n",
    "    effd  = storage_params[\"effd\"]\n",
    "\n",
    "    ## =====  Variables  ===== ##\n",
    "    # BESS: power charge/discharge, energy content\n",
    "    model.power_charge    = opt.Var(model.time, bounds=(0.0, None))\n",
    "    model.power_discharge = opt.Var(model.time, bounds=(0.0, None))\n",
    "    model.energy_bess     = opt.Var(model.time)\n",
    "\n",
    "    # BESS size\n",
    "    model.bess_capacity = opt.Var(within=opt.NonNegativeReals)\n",
    "    model.bess_power    = opt.Var(within=opt.NonNegativeReals)\n",
    "\n",
    "    # Grid: power, peak-power limit (for peak-shaving)\n",
    "    model.grid_power = opt.Var(model.time, within=opt.NonNegativeReals)\n",
    "    model.peak_power = opt.Var(within=opt.NonNegativeReals)\n",
    "\n",
    "\n",
    "    ## =====  Objective  ===== ##\n",
    "    def objective_rule(m):\n",
    "        return sum(m.grid_power) * dt * electricity_cost + m.peak_power * peak_power_cost + m.bess_capacity * capacity_cost + m.bess_power * power_cost\n",
    "    \n",
    "    model.obj = opt.Objective(sense=opt.minimize, rule = objective_rule)\n",
    "\n",
    "\n",
    "    ## ===== Constraints ===== ##\n",
    "    # Power limits\n",
    "    def power_charge_limit_rule(m, t):\n",
    "        return m.power_charge[t] <= m.bess_power\n",
    "    \n",
    "    model.constraint_powerc_limit = opt.Constraint(model.time, rule=power_charge_limit_rule)\n",
    "    \n",
    "    def power_discharge_limit_rule(m, t):\n",
    "        return m.power_discharge[t] <= m.bess_power\n",
    "\n",
    "    model.constraint_powerd_limit = opt.Constraint(model.time, rule=power_discharge_limit_rule)\n",
    "\n",
    "    # Energy content limits\n",
    "    def energy_max_rule(m, t):\n",
    "        return m.energy_bess[t] <= m.bess_capacity * soc_max\n",
    "\n",
    "    model.constraint_energy_max = opt.Constraint(model.time, rule=energy_max_rule)\n",
    "\n",
    "    def energy_min_rule(m, t):\n",
    "        return m.energy_bess[t] >= m.bess_capacity * soc_min\n",
    "\n",
    "    model.constraint_energy_min = opt.Constraint(model.time, rule=energy_min_rule)\n",
    "\n",
    "    # SOC balance\n",
    "    def energy_balance_rule(m, t):\n",
    "        if t == m.time.first(): #\n",
    "            return m.energy_bess[t] == soc_start * m.bess_capacity + dt * (effc * m.power_charge[t] - (1/effd) * m.power_discharge[t])\n",
    "        return m.energy_bess[t] == m.energy_bess[t-1] + dt * (effc * m.power_charge[t] - (1/effd) * m.power_discharge[t])\n",
    "    \n",
    "    model.constraint_energy_balance = opt.Constraint(model.time, rule=energy_balance_rule)\n",
    "\n",
    "    # SOC end conditions\n",
    "    def energy_end_rule(m):\n",
    "        return m.energy_bess[m.time.last()] >= soc_start * m.bess_capacity\n",
    "    \n",
    "    model.constraint_energy_end = opt.Constraint(rule=energy_end_rule)\n",
    "\n",
    "    # power balance\n",
    "    def power_balance_rule(m, t):\n",
    "        return m.grid_power[t] + m.power_discharge[t] - m.power_charge[t] == load_profile.load[t]\n",
    "\n",
    "    model.constraint_power_balance = opt.Constraint(model.time, rule=power_balance_rule)\n",
    "\n",
    "    # peak\n",
    "    def peak_power_rule(m, t):\n",
    "        return m.grid_power[t] <= m.peak_power\n",
    "    \n",
    "    model.constraint_peak_power = opt.Constraint(model.time, rule=peak_power_rule)\n",
    "\n",
    "    return model"
   ]
  },
  {
   "cell_type": "code",
   "execution_count": null,
   "metadata": {},
   "outputs": [],
   "source": [
    "model_dim1 = build_dimension_model(\n",
    "    storage_params=storage1_params,\n",
    "    load_profile=profile, \n",
    "    electricity_cost=electricity_cost, \n",
    "    peak_power_cost=peak_power_cost\n",
    ")\n",
    "status = solver.solve(model_dim1, tee=True)"
   ]
  },
  {
   "cell_type": "code",
   "execution_count": null,
   "metadata": {},
   "outputs": [],
   "source": [
    "model_dim2 = build_dimension_model(\n",
    "    storage_params=storage2_params,\n",
    "    load_profile=profile, \n",
    "    electricity_cost=electricity_cost, \n",
    "    peak_power_cost=peak_power_cost\n",
    ")\n",
    "status = solver.solve(model_dim2, tee=True)"
   ]
  },
  {
   "cell_type": "code",
   "execution_count": null,
   "metadata": {},
   "outputs": [],
   "source": [
    "res_dim1 = recover_results(model_dim1, profile)\n",
    "res_dim2 = recover_results(model_dim2, profile)"
   ]
  },
  {
   "cell_type": "code",
   "execution_count": null,
   "metadata": {},
   "outputs": [],
   "source": [
    "def analyze_dimension_results(df, model, storage_params, electricity_cost, peak_power_cost):\n",
    "    # system dimension\n",
    "    capacity = opt.value(model.bess_capacity)\n",
    "    power    = opt.value(model.bess_power)\n",
    "    \n",
    "    capacity_cost = storage_params[\"capacity_cost\"]\n",
    "    power_cost = storage_params[\"power_cost\"]\n",
    "    system_cost = capacity * capacity_cost + power * power_cost\n",
    "    \n",
    "    # operation\n",
    "    peak = df[\"load\"].max()\n",
    "    demand = df[\"load\"].sum() * 0.25\n",
    "    cost = demand * electricity_cost + peak * peak_power_cost\n",
    "    \n",
    "    opt_peak = df[\"grid\"].max()\n",
    "    opt_demand = df[\"grid\"].sum() * 0.25\n",
    "    opt_cost = opt_demand * electricity_cost + opt_peak * peak_power_cost + system_cost\n",
    "    \n",
    "    delta_cost = (opt_cost - cost)/cost\n",
    "    delta_peak = (opt_peak - peak)/peak\n",
    "    delta_demand = (opt_demand - demand)/demand\n",
    "    \n",
    "    print(f\"Installed capacity: {capacity:7.2f} kWh\")\n",
    "    print(f\"Installed power:    {power:7.2f} kW\")\n",
    "    print(f\"System costs:       {system_cost:7.2f} €\\n\")\n",
    "    \n",
    "    print(f\"Consumption: {opt_demand:10.2f} kWh ({delta_demand:+7.2%})\")\n",
    "    print(f\"Peak power:  {opt_peak:10.2f} kW  ({delta_peak:+7.2%})\")\n",
    "    print(f\"Total costs: {opt_cost:10.2f} €   ({delta_cost:+7.2%})\")"
   ]
  },
  {
   "cell_type": "code",
   "execution_count": null,
   "metadata": {},
   "outputs": [],
   "source": [
    "print(\"--- storage 1 ---\")\n",
    "analyze_dimension_results(res_dim1, model_dim1, storage1_params, electricity_cost, peak_power_cost)\n",
    "print()\n",
    "print(\"--- storage 2 ---\")\n",
    "analyze_dimension_results(res_dim2, model_dim2, storage2_params, electricity_cost, peak_power_cost)"
   ]
  },
  {
   "cell_type": "code",
   "execution_count": null,
   "metadata": {},
   "outputs": [],
   "source": [
    "res_dim = res_dim1.join(res_dim2.drop(\"load\", axis=1), lsuffix='_1', rsuffix='_2')"
   ]
  },
  {
   "cell_type": "code",
   "execution_count": null,
   "metadata": {},
   "outputs": [],
   "source": [
    "res_dim.loc[:, [\"load\", \"grid_1\", \"grid_2\"]].plot(template=template)"
   ]
  },
  {
   "cell_type": "code",
   "execution_count": null,
   "metadata": {},
   "outputs": [],
   "source": [
    "res_dim.loc[:, [\"power_1\", \"power_2\"]].plot(template=template)"
   ]
  },
  {
   "cell_type": "code",
   "execution_count": null,
   "metadata": {},
   "outputs": [],
   "source": [
    "res_dim.loc[:, [\"energy_1\", \"energy_2\"]].plot(template=template)"
   ]
  },
  {
   "cell_type": "markdown",
   "metadata": {},
   "source": [
    "<!-- task -->\n",
    "### Discussion:\n",
    "\n",
    "From the optimization, both storage systems achieve similar *saving*, but with very different system dimensions. \n",
    "\n",
    "Even though *Storage system **2*** (with lower specific energy costs, but higer specific power costs) is ~5 times larger in capacity, is ~1.6 times larger in installed power and costs more than double compared to *storage system **1***, it also provides a significant electricity bill reduction and ultimately achieves overall higher savings (3.01 % vs 2.91 %). Interesting to observe is how the capacity requirements disproportionately scale in relation with an deeper *peak-shave*. \n",
    "\n",
    "Nevertheless *Storage system **1*** results in a better choice in terms of its return of investment (profits per € invested), this is specially attractive when capital is not easily available or when one might like to follow a more risk averse strategy.\n",
    "\n",
    "It is worth mentioning that this assessment does not considers the effects of degradation or how these systems would perform when assigned with additional applications (multi-use)."
   ]
  },
  {
   "cell_type": "code",
   "execution_count": null,
   "metadata": {},
   "outputs": [],
   "source": []
  }
 ],
 "metadata": {
  "kernelspec": {
   "display_name": "Python 3 (ipykernel)",
   "language": "python",
   "name": "python3"
  },
  "language_info": {
   "codemirror_mode": {
    "name": "ipython",
    "version": 3
   },
   "file_extension": ".py",
   "mimetype": "text/x-python",
   "name": "python",
   "nbconvert_exporter": "python",
   "pygments_lexer": "ipython3",
   "version": "3.9.7"
  },
  "vscode": {
   "interpreter": {
    "hash": "6a41cf45b2bd78bebbe5ff69d73815f9ebec36634ee9b167acd479bf9a87d18c"
   }
  }
 },
 "nbformat": 4,
 "nbformat_minor": 4
}
