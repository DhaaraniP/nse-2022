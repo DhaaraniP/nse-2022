{
 "cells": [
  {
   "cell_type": "markdown",
   "metadata": {},
   "source": [
    "# Peak shaving and optimization\n",
    "\n",
    "The power grid is designed to provide a reliable service. This often means that components are dimensioned to support the highest anticipated demand even if this occurs rarely. High load power peaks are undesirable, since they lead to oversized expensive infrastructure to avoid grid disruptions.\n",
    "\n",
    "To persuade big consumers to reduce their peak power, their electricity bill includes, besides the regular energy consumption costs, charges for the maximum power measured during the billing period.\n",
    "The consumers could reduce costs by adapting their consumption behavior, accommodating more flexible loads to low consumption times.\n",
    "An alternative if this flexibility is not available, is to introduce a battery storage system to shift the loads and perform peak-shaving.\n",
    "Overall the load profile will be flattened, while the consumption remains the same.\n",
    "\n",
    "In this notebook we will:\n",
    "* Explore peak-shaving with energy storage as a way to reduce power peak costs.\n",
    "* Use optimization models to determine the peak-shaving strategy.\n",
    "* Extend our optimization models to size our storage system."
   ]
  },
  {
   "cell_type": "code",
   "execution_count": null,
   "metadata": {},
   "outputs": [],
   "source": [
    "import pandas as pd\n",
    "import pyomo.environ as opt\n",
    "import plotly.graph_objects as go"
   ]
  },
  {
   "cell_type": "code",
   "execution_count": null,
   "metadata": {},
   "outputs": [],
   "source": [
    "pd.options.plotting.backend = \"plotly\"\n",
    "template = \"plotly_white\"\n",
    "# template = \"plotly_dark\""
   ]
  },
  {
   "cell_type": "markdown",
   "metadata": {},
   "source": [
    "## Use case - dataset and base-scenario definition\n",
    "For our example we take an industrial profile from the [*Standard Battery Application Profiles (SBAP)*](https://doi.org/10.1016/j.est.2019.101077). For simplicity, we will consider a single billing period of 1 month."
   ]
  },
  {
   "cell_type": "code",
   "execution_count": null,
   "metadata": {
    "tags": []
   },
   "outputs": [],
   "source": [
    "# load profile\n",
    "profile = pd.read_csv(\"../data/industry_profile.csv\", index_col=0, parse_dates=True)\n",
    "profile.plot(template=template, labels={\"value\": \"Power [kW]\"})"
   ]
  },
  {
   "cell_type": "markdown",
   "metadata": {},
   "source": [
    "<div class=\"alert alert-block alert-info\">\n",
    "<b>Task!</b> Calculate energy consumption, peak power and the resulting electricity bill.\n",
    "</div>"
   ]
  },
  {
   "cell_type": "markdown",
   "metadata": {},
   "source": [
    "<div class=\"alert alert-block alert-warning\">\n",
    "<b>Hint!</b> Hint! Pay attention when converting power to energy. </li>\n",
    "</div>"
   ]
  },
  {
   "cell_type": "code",
   "execution_count": null,
   "metadata": {
    "scrolled": true
   },
   "outputs": [],
   "source": [
    "# cost\n",
    "electricity_cost =   0.12 # €/kWh\n",
    "peak_power_cost  = 120.00 # €/kW"
   ]
  },
  {
   "cell_type": "code",
   "execution_count": null,
   "metadata": {},
   "outputs": [],
   "source": [
    "# task"
   ]
  },
  {
   "cell_type": "markdown",
   "metadata": {},
   "source": [
    "## Optimization model - Operation\n",
    "\n",
    "An energy storage system can reduce costs by performing peak shaving. But how exactly should it operate? \n",
    "\n",
    "We can define a target maximum power peak and charge or discharge the storage depending on if the load is currently above or below this threshold.\n",
    "Defining a peak target could be nonetheless difficult, if the threshold is too high the storage system may not be used at its full potential, if it is too low, the storage system would not be able to fulfil it.\n",
    "\n",
    "We can instead use mathematical optimization techniques to find the optimal storage charge/discharge schedule to best fulfill the task. The [*pyomo* library](https://www.pyomo.org/) allows us to easily formulate *linear programming* models with python."
   ]
  },
  {
   "cell_type": "markdown",
   "metadata": {},
   "source": [
    "<div class=\"alert alert-block alert-info\">\n",
    "<b>Task!</b> Formulate and optimize the model\n",
    "<ul>\n",
    "    <li> Formulate the optimization problem in a markdown cell using \\( \\LaTeX \\). </li>\n",
    "    <li> Create a function <code>build_model</code> that takes storage system parameters <code>storage_params</code>, load profile <code>load_profile</code>, electricity costs <code>electricity_cost</code>, peak costs <code>peak_power_cost</code> and returns a pyomo optimization model <code>model</code>. </li>\n",
    "    <li> Build the model based on the given storage parameters and optimize it with the GLPK solver. </li>\n",
    "    <li> Recover the optimization results. Combine the time series results togther in a dataframe with the load profile. Make the following plots:\n",
    "    <ul>\n",
    "        <li> Load profile and grid power in the same plot. </li>\n",
    "        <li> Storage power. </li>\n",
    "        <li> Storage energy content or SOC. </li>\n",
    "    </ul>\n",
    "    </li>\n",
    "    <li> Calculate the new total consumption, peak-power and total costs. Evaluate the improvements against the scenario without storage system. </li>\n",
    "    \n",
    "</ul>\n",
    "</div>"
   ]
  },
  {
   "cell_type": "markdown",
   "metadata": {},
   "source": [
    "<div class=\"alert alert-block alert-warning\">\n",
    "<b>Hint!</b> Read the <a href=\"https://pyomo.readthedocs.io/en/stable/\">pyomo documentation</a>. </li>\n",
    "</div>"
   ]
  },
  {
   "cell_type": "markdown",
   "metadata": {},
   "source": [
    "$$\n",
    "\\begin{aligned}\n",
    "&\\min_{a, b, c} \\quad f(b, c) = 2 * \\sum_{T}{b_t} + c^2 \\\\\n",
    "s.t.  &  \\\\\n",
    "b_t &\\leq a_t, \\quad &\\forall t \\in T \\\\\n",
    "b_t &\\geq c, \\quad &\\forall t \\in T \\\\\n",
    "c &= d,  \\\\\n",
    "\\end{aligned}\n",
    "$$"
   ]
  },
  {
   "cell_type": "code",
   "execution_count": null,
   "metadata": {},
   "outputs": [],
   "source": [
    "# Storage parameters\n",
    "storage_params = {\n",
    "    \"capacity\": 200.0,  # kWh\n",
    "    \"power\": 200.0,      # kW\n",
    "\n",
    "    \"soc_bounds\": (0.1, 0.9),\n",
    "    \"soc_start\": 0.0,\n",
    "\n",
    "    \"effc\": 0.9,     # charge efficiency\n",
    "    \"effd\": 0.9,     # discharge efficiency\n",
    "}"
   ]
  },
  {
   "cell_type": "code",
   "execution_count": null,
   "metadata": {},
   "outputs": [],
   "source": [
    "def build_model(storage_params, load_profile, electricity_cost, peak_power_cost):\n",
    "    # task\n",
    "    ...\n",
    "\n",
    "    return model"
   ]
  },
  {
   "cell_type": "code",
   "execution_count": null,
   "metadata": {},
   "outputs": [],
   "source": [
    "# task: build model"
   ]
  },
  {
   "cell_type": "code",
   "execution_count": null,
   "metadata": {},
   "outputs": [],
   "source": [
    "# task: solve model"
   ]
  },
  {
   "cell_type": "code",
   "execution_count": null,
   "metadata": {},
   "outputs": [],
   "source": [
    "# task: recover results"
   ]
  },
  {
   "cell_type": "code",
   "execution_count": null,
   "metadata": {},
   "outputs": [],
   "source": [
    "# task: analyze results"
   ]
  },
  {
   "cell_type": "code",
   "execution_count": null,
   "metadata": {},
   "outputs": [],
   "source": [
    "# task: plot results"
   ]
  },
  {
   "cell_type": "markdown",
   "metadata": {},
   "source": [
    "## System dimension\n",
    "\n",
    "We have succesfully optimized our storage operation to minimizes costs. This was done with a predefined system. But what if we find ourselfs on the planning stage, contemplating the idea of aquiring a storage system to perform peak shaving? The storage system comes with respective investment costs, so me might want to \n",
    "re-formulate the optimization problem with a further degree of freedom to find the best system size that minimizes the total costs.\n",
    "\n",
    "Two storage system are considered, their specific costs and efficiency are described in the following table:\n",
    "\n",
    "|                                   | Storage System 1  | Sotrage System 2  |\n",
    "|:---------------------------------:|:-----------------:|:-----------------:|\n",
    "| Specific capacity costs           | 50.00 €/kWh       | 15.00 €/kWh       |\n",
    "| Specific power costs              | 20.00 €/kW        | 45.00 €/kW        |\n",
    "| Efficiency charge ; discharge     | 95% ; 95%         | 90%  ; 90%        |"
   ]
  },
  {
   "cell_type": "markdown",
   "metadata": {},
   "source": [
    "<div class=\"alert alert-block alert-info\">\n",
    "<b>Task!</b> Formulate and optimize the dimensioning model\n",
    "<ul>\n",
    "    <li> Formulate the optimal sizing problem in a markdown cell using \\( \\LaTeX \\). </li>\n",
    "    <li> Create a function <code>build_dimension_model</code> that takes storage system parameters <code>storage_params</code>, load profile <code>load_profile</code>, electricity costs <code>electricity_cost</code>, peak costs <code>peak_power_cost</code> and returns a pyomo optimization model <code>model</code>. </li>\n",
    "    <li> Build the model based on the given storage parameters and optimize it with the GLPK solver. </li>\n",
    "    <li> Recover the optimization results. Combine the load profile and the time series results of both storage systems in a dataframe. Make the following plots:\n",
    "    <ul>\n",
    "        <li> Load profile and grid power in the same plot. </li>\n",
    "        <li> Storage power. </li>\n",
    "        <li> Storage energy content or SOC. </li>\n",
    "    </ul>\n",
    "    </li>\n",
    "    <li> Calculate the new total consumption, peak-power and total costs for both systems. Which system would you choose? Give your arguments in a markdown cell. </li>\n",
    "    \n",
    "</ul>\n",
    "</div>"
   ]
  },
  {
   "cell_type": "code",
   "execution_count": null,
   "metadata": {},
   "outputs": [],
   "source": [
    "# Storage parameters\n",
    "storage1_params = {\n",
    "    \"capacity_cost\": 50.00,  # €/kWh\n",
    "    \"power_cost\": 20.00,     # €/kW\n",
    "\n",
    "    \"soc_bounds\": (0.1, 0.9),\n",
    "    \"soc_start\": 0.0,\n",
    "\n",
    "    \"effc\": 0.95,     # charge efficiency\n",
    "    \"effd\": 0.95,     # discharge efficiency\n",
    "}\n",
    "\n",
    "storage2_params = {\n",
    "    \"capacity_cost\": 15.00,  # €/kWh\n",
    "    \"power_cost\": 45.00,     # €/kW\n",
    "\n",
    "    \"soc_bounds\": (0.1, 0.9),\n",
    "    \"soc_start\": 0.0,\n",
    "\n",
    "    \"effc\": 0.9,     # charge efficiency\n",
    "    \"effd\": 0.9,     # discharge efficiency\n",
    "}"
   ]
  },
  {
   "cell_type": "code",
   "execution_count": null,
   "metadata": {},
   "outputs": [],
   "source": [
    "def build_dimension_model(storage_params, load_profile, electricity_cost, peak_power_cost):\n",
    "    # task\n",
    "    ...\n",
    "\n",
    "    return model"
   ]
  },
  {
   "cell_type": "code",
   "execution_count": null,
   "metadata": {},
   "outputs": [],
   "source": [
    "# task: build models"
   ]
  },
  {
   "cell_type": "code",
   "execution_count": null,
   "metadata": {},
   "outputs": [],
   "source": [
    "#task: solve models"
   ]
  },
  {
   "cell_type": "code",
   "execution_count": null,
   "metadata": {},
   "outputs": [],
   "source": [
    "# task: recover results"
   ]
  },
  {
   "cell_type": "code",
   "execution_count": null,
   "metadata": {},
   "outputs": [],
   "source": [
    "# task: analyze resuls"
   ]
  },
  {
   "cell_type": "code",
   "execution_count": null,
   "metadata": {},
   "outputs": [],
   "source": [
    "# task: plot results"
   ]
  },
  {
   "cell_type": "markdown",
   "metadata": {},
   "source": []
  }
 ],
 "metadata": {
  "kernelspec": {
   "display_name": "Python 3 (ipykernel)",
   "language": "python",
   "name": "python3"
  },
  "language_info": {
   "codemirror_mode": {
    "name": "ipython",
    "version": 3
   },
   "file_extension": ".py",
   "mimetype": "text/x-python",
   "name": "python",
   "nbconvert_exporter": "python",
   "pygments_lexer": "ipython3",
   "version": "3.8.13"
  },
  "vscode": {
   "interpreter": {
    "hash": "6a41cf45b2bd78bebbe5ff69d73815f9ebec36634ee9b167acd479bf9a87d18c"
   }
  }
 },
 "nbformat": 4,
 "nbformat_minor": 4
}
