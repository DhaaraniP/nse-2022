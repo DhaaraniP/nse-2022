{
 "cells": [
  {
   "cell_type": "markdown",
   "metadata": {},
   "source": [
    "# Profile analysis and degradation\n",
    "\n",
    "Battery energy storage systems are capable of providing many useful services. But their great upfront investment cost means that the operative lifetime of the system greatly affects the overall profitability. This lifetime can vary greatly based on the cell characteristics and the operating conditions. \n",
    "\n",
    "In this notebook we will:\n",
    "- Compare different battery storage system applications and their typical operating conditions.\n",
    "- Explore the effects of these operating conditions on the lifetime of the system, based on the semi-empirical aging models of two cells."
   ]
  },
  {
   "cell_type": "code",
   "execution_count": null,
   "metadata": {},
   "outputs": [],
   "source": [
    "import numpy as np\n",
    "import pandas as pd\n",
    "import math\n",
    "\n",
    "from plotly.subplots import make_subplots\n",
    "import plotly.graph_objects as go\n",
    "\n",
    "# other plotting options\n",
    "# import matplotlib.pyplot as plt\n",
    "# import seaborn as sns"
   ]
  },
  {
   "cell_type": "code",
   "execution_count": null,
   "metadata": {},
   "outputs": [],
   "source": [
    "pd.options.plotting.backend = \"plotly\"\n",
    "template = \"plotly_white\""
   ]
  },
  {
   "cell_type": "markdown",
   "metadata": {},
   "source": [
    "## Profile Analysis\n",
    "\n",
    "The conceptual setup and data for our analysis are taken from the [*Standard Battery Application Profiles (SBAP) paper*](https://doi.org/10.1016/j.est.2019.101077). We take a look into 3 different storage systems, each serving their distinctive application:\n",
    "- A grid scale storage system (1.6 MWh, 1.6 MW) that provides Frequency Containment Reserve (FCR).\n",
    "- An industrial scale storage system (100 kWh, 40 kW) that performs Peak Shaving (PS).\n",
    "- A home storage system (5kWh, 5kW) that aims to improve the self-consumption-increase (SCI) from a household through the *greedy*-strategy.\n",
    "\n",
    "The operation of these storage systems was simulated with SimSES, resulting each in \"power\" and \"soc\" profiles. Further details can be found in the paper.\n"
   ]
  },
  {
   "cell_type": "code",
   "execution_count": null,
   "metadata": {},
   "outputs": [],
   "source": [
    "# storage parameters - system size\n",
    "fcr = dict(capacity=1.6e6, power=1.6e6)\n",
    "ps  = dict(capacity=100e3, power=40e3)\n",
    "sci = dict(capacity=5e3, power=5e3)"
   ]
  },
  {
   "cell_type": "code",
   "execution_count": null,
   "metadata": {},
   "outputs": [],
   "source": [
    "df_fcr = pd.read_csv(\"../data/SBAP_FCR_profile.csv\", index_col=0, parse_dates=True)\n",
    "df_ps = pd.read_csv(\"../data/SBAP_PS_profile.csv\", index_col=0, parse_dates=True)\n",
    "df_sci = pd.read_csv(\"../data/SBAP_SCI_profile.csv\", index_col=0, parse_dates=True)"
   ]
  },
  {
   "cell_type": "code",
   "execution_count": null,
   "metadata": {},
   "outputs": [],
   "source": [
    "profiles = {\n",
    "    \"FCR\": df_fcr,\n",
    "    \"PS\": df_ps,\n",
    "    \"SCI\": df_sci\n",
    "}"
   ]
  },
  {
   "cell_type": "code",
   "execution_count": null,
   "metadata": {},
   "outputs": [],
   "source": [
    "def plot_profiles(profiles):\n",
    "    n = len(profiles)\n",
    "    fig = make_subplots(rows=n, shared_xaxes=True, specs=n*[[{\"secondary_y\": True}]])\n",
    "    fig.update_layout(template=template, height=800)\n",
    "\n",
    "    for i, (name, df) in enumerate(profiles.items()):\n",
    "        fig.add_trace(go.Scatter(x=df.index, y=df[\"power\"], name=f\"{name} power\"), row=i+1, col=1)\n",
    "        fig.add_trace(go.Scatter(x=df.index, y=df[\"soc\"], name=f\"{name} soc\"), row=i+1, col=1, secondary_y=True)\n",
    "        fig.update_yaxes(title=\"Power / W\")\n",
    "        fig.update_yaxes(title=\"SOC\", secondary_y=True)\n",
    "\n",
    "    return fig"
   ]
  },
  {
   "cell_type": "code",
   "execution_count": null,
   "metadata": {},
   "outputs": [],
   "source": [
    "plot_profiles(profiles)"
   ]
  },
  {
   "cell_type": "markdown",
   "metadata": {},
   "source": [
    "Let's further examine the operating-profile characteristics of each application with some statistical analysis"
   ]
  },
  {
   "cell_type": "markdown",
   "metadata": {},
   "source": [
    "<div class=\"alert alert-block alert-info\">\n",
    "<b>Task!</b> For each application:\n",
    "<ul>\n",
    "    <li> Calculate the E-rate profile and add it to their dataframe. </li>\n",
    "    <li> Calculate the depth-of-cycle (DOC) profile and add it to their dataframe. </li>\n",
    "    <li> Plot the histograms of the SOC, E-rate and DOC distribution. </li>\n",
    "    <li> Calculate the following values:\n",
    "        <ul>\n",
    "            <li> Roundtrip efficiency. </li>\n",
    "            <li> Full equivalent cycles (FEC). </li>\n",
    "            <li> Average SOC. </li>\n",
    "            <li> Temporal utilization. </li>\n",
    "        </ul>\n",
    "    </li>\n",
    "</ul>\n",
    "</div>"
   ]
  },
  {
   "cell_type": "markdown",
   "metadata": {},
   "source": [
    "<div class=\"alert alert-block alert-warning\">\n",
    "<b>Hint!</b>\n",
    "    <ul>\n",
    "        <li>  Use the provided <code>calc_cycle_depth</code> function to calculate the DOC <i>of each timestep</i>. \n",
    "        Because a cycle depth can only be counted after the cycle has been completed, the value <code>0.0</code> is set for all the timesteps where a cycle is not yet complete. \n",
    "        <li> Use the <i>DOC-profile</i> to count the FECs.</li>\n",
    "        <li> Make a 3x3 grid of subplots for the histograms:\n",
    "        <ul>\n",
    "          <li>  A row for each application </li>\n",
    "          <li>  A column for each metric (SOC, E-rate, DOC) </li>\n",
    "        </ul>\n",
    "        </li>\n",
    "        <li> Use your preferred plotting library: plotly, matplotlib or seaborn. </li>\n",
    "        <li> Don't forget to omit the <i>0-depth</i> cycles for the DOC histogram-plot. </li>\n",
    "    </ul>\n",
    "</div>"
   ]
  },
  {
   "cell_type": "code",
   "execution_count": null,
   "metadata": {},
   "outputs": [],
   "source": [
    "# depth of discharge cycle count\n",
    "def calc_cycle_depth(df):\n",
    "    soc = df[\"soc\"].to_numpy()\n",
    "    soc_diff = np.diff(soc)\n",
    "    n = len(soc_diff)\n",
    "\n",
    "    soc_sign_diff = np.diff(np.sign(soc_diff))\n",
    "    soc_sign_diff = np.append(0, soc_sign_diff) # align with soc_diff\n",
    "    nonzeros = np.nonzero(soc_sign_diff)[0] # find nonzeros\n",
    "    start = np.append(0, nonzeros) \n",
    "    stop  = np.append(nonzeros, n) \n",
    "\n",
    "    x = len(start)\n",
    "    soc_change = np.zeros(x)\n",
    "    for i in range(x):\n",
    "        soc_change[i] = np.sum(soc_diff[start[i]:stop[i]])\n",
    "\n",
    "    start = start[soc_change > 0]\n",
    "    soc_change = soc_change[soc_change > 0]\n",
    "\n",
    "    idx = df.index[start]\n",
    "    df.loc[idx, \"doc\"] = soc_change\n",
    "\n",
    "    df.fillna(0.0, inplace=True)\n",
    "\n",
    "    return"
   ]
  },
  {
   "cell_type": "code",
   "execution_count": null,
   "metadata": {},
   "outputs": [],
   "source": [
    "# task\n"
   ]
  },
  {
   "cell_type": "code",
   "execution_count": null,
   "metadata": {},
   "outputs": [],
   "source": [
    "# task\n"
   ]
  },
  {
   "cell_type": "code",
   "execution_count": null,
   "metadata": {},
   "outputs": [],
   "source": [
    "# task\n"
   ]
  },
  {
   "cell_type": "code",
   "execution_count": null,
   "metadata": {},
   "outputs": [],
   "source": [
    "# task\n"
   ]
  },
  {
   "cell_type": "markdown",
   "metadata": {},
   "source": [
    "## Degradation\n",
    "\n",
    "These applications have very different operational characteristics and present varied proportions of *stress factors*.\n",
    "The cell-degradation can be accelerated (or slowed down) based on these stress factors, but the cell characteristics (chemistry, format, manufacturing) also play a key role.\n",
    "<!-- For degradation or aging we refer here to the capacity loss caused by internal lithium-ion cell mechanism like SEI growth, loss of active material, lithium-plating and others. -->\n",
    "\n",
    "We will assess the performance of 2 cells for each of these applications, these cells represent two of the most common cathode materials in lithium-ion batteries: Lithium-Iron-Phosphate (LFP) and Lithium-Nickel-Manganese-Cobalt-Oxide (NMC).\n",
    "A common way to simulate the aging behavior of lithium-ion cells is through semi-empirical models. \n",
    "These are simple functions fitted from experimental data (lab tests of cells under varied stress conditions) \n",
    "to describe the relation between *stress factors* and the intensity of degradation rate.\n",
    "This is in contrast to physics-based models, which although generally more accurate, are difficult to parametrize and computing intensive.\n",
    "\n",
    "Semi-empirical models generally distinguish between calendar and cyclic degradation, under the assumption of superposition: the total degradation is the sum of the calendar and cyclic share.\n",
    "Calendar degradation increases with the elapsed time and is strengthened according to specific stress factors (for example SOC and temperature), \n",
    "likewise cyclic degradation growths with the charge (or energy) throughput and is affected from cycling-related stress factors (for example DOC and C-rate)."
   ]
  },
  {
   "cell_type": "markdown",
   "metadata": {},
   "source": [
    "### LFP-cell degradation model\n",
    "\n",
    "The LFP-cell semi-empirical degradation models are based on the work of Nauman et al., published in the following 2 papers \n",
    "[[1]](https://doi.org/10.1016/j.est.2018.01.019) \n",
    "[[2]](https://doi.org/10.1016/j.jpowsour.2019.227666)\n",
    "\n",
    "```\n",
    "[1] Naumann, Maik, et al.\n",
    "    \"Analysis and modeling of calendar aging of a commercial LiFePO4/graphite cell.\"\n",
    "    Journal of Energy Storage 17 (2018): 153-169.\n",
    "    DOI: https://doi.org/10.1016/j.est.2018.01.019\n",
    "\n",
    "[2] Naumann, Maik, Franz Spingler, and Andreas Jossen.\n",
    "    \"Analysis and modeling of cycle aging of a commercial LiFePO4/graphite cell.\"\n",
    "    Journal of Power Sources 451 (2020): 227666.\n",
    "    DOI: https://doi.org/10.1016/j.jpowsour.2019.227666\n",
    "```\n",
    "<!-- \n",
    "- Calendar degradation:\n",
    "  - Square root dependency with elapsed time \n",
    "  - Stress factors: SOC and Temperature\n",
    "  - Assumption constant Temperature of 25 °C\n",
    "- Cyclic degradation\n",
    "  - Square root dependency with charge throughput (in FEC)\n",
    "  - Stress factors: DOC and C-rate (mean C-rate of cycle)\n",
    "  - Assumptions we take the E-rate instead of C-rate \n",
    "-->\n",
    "\n"
   ]
  },
  {
   "cell_type": "code",
   "execution_count": null,
   "metadata": {},
   "outputs": [],
   "source": [
    "def lfp_calendar(df, years=1):\n",
    "    \"\"\"Calendar-degradation model of LFP cell.\n",
    "    \n",
    "    Parameters\n",
    "    ----------\n",
    "    df: pandas-DataFrame\n",
    "        Profile of storage system operation (1 year)\n",
    "    year: int\n",
    "        Number of years to simulate. Default 1 year\n",
    "        \n",
    "    Output\n",
    "    ------\n",
    "    loss_array: numpy-array\n",
    "        Array with the capacity loss of each timestep in p.u. \n",
    "    \"\"\"\n",
    "    n = len(df)\n",
    "    dt = (df.index[1] - df.index[0]).seconds\n",
    "    soc_array = df_ps[\"soc\"].to_numpy()\n",
    "\n",
    "    C_QLOSS = 2.8575\n",
    "    D_QLOSS = 0.60225\n",
    "    \n",
    "    cum_loss   = 0  # cumulative capacity loss in p.u.\n",
    "    loss_array = np.zeros(len(df) * years) # capacity loss of each timestep in p.u.\n",
    "    \n",
    "    for year in range(years):\n",
    "        for (i, soc) in enumerate(soc_array):\n",
    "            # calculate stress factor dependent coefficients\n",
    "            k_temp = 1.2571e-5 # temperature dependent coefficient (default: 25 °C)\n",
    "            k_soc = C_QLOSS * (soc - 0.5) ** 3 + D_QLOSS # SOC dependent coefficient\n",
    "            k = k_temp * k_soc\n",
    "\n",
    "            # calculate capacity loss per step, based on virtual elapsed time and past total degradation.\n",
    "            virtual_time = (cum_loss / k)**2 # virtual time in s\n",
    "            loss = k_soc * k_temp * math.sqrt(virtual_time + dt) # total losses\n",
    "            loss -=  cum_loss # time step losses\n",
    "            loss_array[i + n*year] = loss\n",
    "            \n",
    "            # update variables\n",
    "            cum_loss += loss  # increase cumulative losses\n",
    "\n",
    "    return loss_array"
   ]
  },
  {
   "cell_type": "code",
   "execution_count": null,
   "metadata": {},
   "outputs": [],
   "source": [
    "def lfp_cyclic(df, years=1):\n",
    "    \"\"\"Cyclic-degradation model of LFP cell.\n",
    "    \n",
    "    Parameters\n",
    "    ----------\n",
    "    df: pandas-DataFrame\n",
    "        Profile of storage system operation (1 year)\n",
    "    year: int\n",
    "        Number of years to simulate. Default 1 year\n",
    "        \n",
    "    Output\n",
    "    ------\n",
    "    loss_array: numpy-array\n",
    "        Array with the capacity loss of each timestep in p.u. \n",
    "    \"\"\"\n",
    "    n =len(df)\n",
    "    \n",
    "    # constants\n",
    "    A_QLOSS = 0.0630\n",
    "    B_QLOSS = 0.0971\n",
    "    C_QLOSS = 4.0253\n",
    "    D_QLOSS = 1.0923\n",
    "\n",
    "    cum_loss = 0 # cumulative losses\n",
    "    loss_array = np.zeros(n * years) # capacity loss of each timestep in p.u.\n",
    "    idx_soc = []\n",
    "        \n",
    "    for year in range(years):\n",
    "        for i, idx in enumerate(df.index):\n",
    "            doc = df.loc[idx, \"doc\"] # depth of cycle in p.u.\n",
    "            if doc != 0.0:\n",
    "                # stress factors\n",
    "                crate = df.loc[idx_soc, \"erate\"].mean() # average c-rate of cycle 1/h\n",
    "                delta_fec = doc / 2 # \n",
    "\n",
    "                # calculate stress factor dependent coefficients\n",
    "                k_c_rate = A_QLOSS * crate + B_QLOSS\n",
    "                k_doc = C_QLOSS * (doc - 0.6)**3 + D_QLOSS\n",
    "\n",
    "                # calculate capacity loss per step, based on virtual FEC and past total degradation.\n",
    "                virtual_fec = (cum_loss * 100 / (k_c_rate * k_doc))**2\n",
    "                loss = k_c_rate * k_doc * math.sqrt(virtual_fec + delta_fec) / 100  # total cyc. qloss in p.u.\n",
    "                loss -= cum_loss  # relative qloss in pu in current timestep\n",
    "                loss_array[i + n*year] = loss\n",
    "                \n",
    "                # update variables\n",
    "                cum_loss += loss\n",
    "                idx_soc = []    # reset index count\n",
    "            else:\n",
    "                idx_soc.append(idx)\n",
    "\n",
    "    return loss_array"
   ]
  },
  {
   "cell_type": "markdown",
   "metadata": {},
   "source": [
    "### NMC-cell degradation model\n",
    "\n",
    "The NMC-cell semi-empirical models are based on the work of Schmalstieg et al., summarized in the following paper \n",
    "[[3]](https://doi.org/10.1016/j.jpowsour.2014.02.012)\n",
    "```\n",
    "[3] Schmalstieg, J., Käbitz, S., Ecker, M., & Sauer, D. U. (2014).\n",
    "    A holistic aging model for Li (NiMnCo) O2 based 18650 lithium-ion batteries.\n",
    "    Journal of Power Sources, 257, 325-334.\n",
    "    DOI: https://doi.org/10.1016/j.jpowsour.2014.02.012\n",
    "```"
   ]
  },
  {
   "cell_type": "code",
   "execution_count": null,
   "metadata": {},
   "outputs": [],
   "source": [
    "def nmc_ocv(soc):\n",
    "    \"\"\"OCV-fitting function of NMC cell\n",
    "    \n",
    "    Parameter\n",
    "    ---------\n",
    "    soc: float\n",
    "        SOC in p.u.\n",
    "        \n",
    "    Output\n",
    "    ------\n",
    "    ocv: flaot\n",
    "        OCV voltage in V\n",
    "    \"\"\"\n",
    "    k0 = 2.3885;  k1 = 2.1430;  k2 = -0.6287; k3 = -1.6708; k4 = 1.6161; k5 = 0.7234\n",
    "    a1 = -7.7487; a2 = -0.0974; a3 = 1.2023;  a4 = 3.9977\n",
    "    b1 = -0.1714; b2 = 2.6526\n",
    "\n",
    "    ocv = k0 + \\\n",
    "            k1 / (1 + np.exp(a1 * (soc - b1))) + \\\n",
    "            k2 / (1 + np.exp(a2 * (soc - b2))) + \\\n",
    "            k3 / (1 + np.exp(a3 * (soc - 1))) +\\\n",
    "            k4 / (1 + np.exp(a4 * soc)) +\\\n",
    "            k5 * soc\n",
    "\n",
    "    return ocv"
   ]
  },
  {
   "cell_type": "code",
   "execution_count": null,
   "metadata": {},
   "outputs": [],
   "source": [
    "def nmc_calendar(df, years=1):\n",
    "    \"\"\"Calendar-degradation model of NMC cell.\n",
    "    \n",
    "    Parameters\n",
    "    ----------\n",
    "    df: pandas-DataFrame\n",
    "        Profile of storage system operation (1 year)\n",
    "    year: int\n",
    "        Number of years to simulate. Default 1 year\n",
    "        \n",
    "    Output\n",
    "    ------\n",
    "    loss_array: numpy-array\n",
    "        Array with the capacity loss of each timestep in p.u. \n",
    "    \"\"\"\n",
    "    dt = (df.index[1] - df.index[0]).seconds\n",
    "    n = len(df)\n",
    "    \n",
    "    soc_array = df_ps[\"soc\"].to_numpy()\n",
    "    loss_array = np.zeros(n * years) # array with capacity loss of each timestep in p.u.\n",
    "    time = 0 # total elapsed time\n",
    "\n",
    "    for year in range(years):\n",
    "        for (i, soc) in enumerate(soc_array):\n",
    "            # stress factors\n",
    "            voltage = nmc_ocv(soc) # convert SOC -> voltage in V\n",
    "            temp = 25 + 273.15 # temperature in K\n",
    "            \n",
    "            # calculate stress factor dependent coefficients\n",
    "            alpha_cap = (7.543 * voltage - 23.75)*1e6*math.exp(-6976/temp) \n",
    "\n",
    "            # calculate capacity loss per step, based on elapsed time and past total degradation.\n",
    "            capacity_t0 = 1 - alpha_cap * (time / 86400) ** 0.75  # in p.u.\n",
    "            capacity_t1 = 1 - alpha_cap * ((time + dt) / 86400) ** 0.75  # in p.u.\n",
    "            loss = capacity_t0 - capacity_t1\n",
    "            loss_array[i + n*year] = loss\n",
    "            \n",
    "            # update variables\n",
    "            time += dt\n",
    "\n",
    "    return loss_array"
   ]
  },
  {
   "cell_type": "code",
   "execution_count": null,
   "metadata": {},
   "outputs": [],
   "source": [
    "# nmc - cyclic\n",
    "def nmc_cyclic(df, years=1):\n",
    "    \"\"\"Cyclic-degradation model of NMC cell.\n",
    "    \n",
    "    Parameters\n",
    "    ----------\n",
    "    df: pandas-DataFrame\n",
    "        Profile of storage system operation (1 year)\n",
    "    year: int\n",
    "        Number of years to simulate. Default 1 year\n",
    "        \n",
    "    Output\n",
    "    ------\n",
    "    loss_array: numpy-array\n",
    "        Array with the capacity loss of each timestep in p.u. \n",
    "    \"\"\"\n",
    "    n = len(df)\n",
    "    loss_array = np.zeros(n)\n",
    "\n",
    "    qcell = 2.05\n",
    "    throughput = 0\n",
    "    idx_soc=[] # list of all indices between cycles\n",
    "    loss_array = np.zeros(n * years)\n",
    "    \n",
    "    for year in range(years):\n",
    "        for i, idx in enumerate(df.index):\n",
    "            doc = df.loc[idx, \"doc\"]\n",
    "            if doc != 0.0:\n",
    "                # stress factors\n",
    "                delta_throughput = qcell*doc\n",
    "                soc_array = df.loc[idx_soc, \"soc\"]\n",
    "                voltage_array = nmc_ocv(soc_array)\n",
    "                voltage_mean = np.mean(voltage_array)\n",
    "            \n",
    "                # calculate stress factor dependent coefficients\n",
    "                beta_cap = 7.348e-3*(voltage_mean - 3.667)**2 + 7.6e-4 + 4.081e-3*doc\n",
    "\n",
    "                # calculate capacity loss per step, based on charge thorughput and past total degradation.\n",
    "                capacity_t0 = 1 - beta_cap * math.sqrt(throughput)  # in p.u.\n",
    "                capacity_t1 = 1 - beta_cap * math.sqrt(throughput + delta_throughput)  # in p.u.\n",
    "                loss = capacity_t0 - capacity_t1\n",
    "                loss_array[i + n*year] = loss\n",
    "                \n",
    "                # update variables\n",
    "                throughput += delta_throughput\n",
    "                idx_soc=[] # reset index count\n",
    "            else:\n",
    "                idx_soc.append(idx)\n",
    "\n",
    "    return loss_array"
   ]
  },
  {
   "cell_type": "markdown",
   "metadata": {},
   "source": [
    "<div class=\"alert alert-block alert-info\">\n",
    "<b>Task!</b> For all applications and both cells:\n",
    "<ul>\n",
    "    <li> Calculate the capacity loss profile. Take a 5-year operation horizon. </li>\n",
    "    <li> Plot the estimated state-of-health (SOH) timeseries. </li>\n",
    "    <li> Make a bar plot of the total capacity loss, differentiate between calendar and cyclic losses (stacked bar-plot). </li>\n",
    "    <li> Comment on the cell performance:\n",
    "        <ul>\n",
    "            <li> Assuming an end-of-life (EOL) criterion of 80% SOH, which cell-application combinations will be still in deployment after the time horizon? </li>\n",
    "            <li> What are the aging characteristic of each cell? Which cell is better suited for which application? </li>\n",
    "        </ul>\n",
    "    </li>\n",
    "</ul>\n",
    "</div>"
   ]
  },
  {
   "cell_type": "markdown",
   "metadata": {},
   "source": [
    "<div class=\"alert alert-block alert-warning\">\n",
    "<b>Hint!</b> \n",
    "Use the provided degradation models <code>lfp_calendar</code>, <code>lfp_cyclic</code>, <code>nmc_calendar</code> and <code>nmc_cyclic</code>. \n",
    "You don't have to focus on the implementation details of the models, only the interface.\n",
    "</div>"
   ]
  },
  {
   "cell_type": "code",
   "execution_count": null,
   "metadata": {},
   "outputs": [],
   "source": [
    "# task\n"
   ]
  },
  {
   "cell_type": "code",
   "execution_count": null,
   "metadata": {},
   "outputs": [],
   "source": [
    "# task\n"
   ]
  },
  {
   "cell_type": "code",
   "execution_count": null,
   "metadata": {},
   "outputs": [],
   "source": [
    "# task\n"
   ]
  },
  {
   "cell_type": "markdown",
   "metadata": {},
   "source": []
  }
 ],
 "metadata": {
  "kernelspec": {
   "display_name": "Python 3 (ipykernel)",
   "language": "python",
   "name": "python3"
  },
  "language_info": {
   "codemirror_mode": {
    "name": "ipython",
    "version": 3
   },
   "file_extension": ".py",
   "mimetype": "text/x-python",
   "name": "python",
   "nbconvert_exporter": "python",
   "pygments_lexer": "ipython3",
   "version": "3.9.12"
  },
  "vscode": {
   "interpreter": {
    "hash": "d9914bac5e7164fd888504e31bb0b32634cb460ccadba1b6f01d58e03789bab7"
   }
  }
 },
 "nbformat": 4,
 "nbformat_minor": 4
}
