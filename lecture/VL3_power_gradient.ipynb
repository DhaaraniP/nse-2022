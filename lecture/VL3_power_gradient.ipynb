{
 "cells": [
  {
   "cell_type": "markdown",
   "metadata": {},
   "source": [
    "# Lecture 3: Renewable energy and network stability\n",
    "## Forecasting renewable generation and power gradients\n",
    "\n",
    "This notebook explores the intermittent nature of renewable energy sources and the effect on the grid stability by the power gradients that wind and solar power can cause."
   ]
  },
  {
   "cell_type": "code",
   "execution_count": null,
   "metadata": {},
   "outputs": [],
   "source": [
    "import pandas as pd"
   ]
  },
  {
   "cell_type": "code",
   "execution_count": null,
   "metadata": {},
   "outputs": [],
   "source": [
    "pd.options.plotting.backend = \"plotly\"\n",
    "template = \"plotly_white\"\n",
    "# template = \"plotly_dark\""
   ]
  },
  {
   "cell_type": "markdown",
   "metadata": {},
   "source": [
    "## Wind\n",
    "\n",
    "This profile of an offshore wind turbine was derived from a dataset released by the TUM Wind Energy Institute (Prof. Botasso)."
   ]
  },
  {
   "cell_type": "code",
   "execution_count": null,
   "metadata": {},
   "outputs": [],
   "source": [
    "df_wind = pd.read_csv(\"../data/windturbine_profile.csv\", index_col=0, parse_dates=True)"
   ]
  },
  {
   "cell_type": "code",
   "execution_count": null,
   "metadata": {},
   "outputs": [],
   "source": [
    "df_wind.plot(template=template, labels={\"value\": \"Power [MW]\"})"
   ]
  },
  {
   "cell_type": "code",
   "execution_count": null,
   "metadata": {},
   "outputs": [],
   "source": [
    "df_wind_ramp = df_wind.diff() \n",
    "df_wind_ramp = df_wind_ramp * 10 / df_wind.max() # MW / 10 min -> p.u. / min\n",
    "df_wind_ramp.plot(template=template, labels={\"value\": \"p.u. / min\"})"
   ]
  },
  {
   "cell_type": "markdown",
   "metadata": {},
   "source": [
    "## Solar\n",
    "\n",
    "This profile was derived from measurements taken from a photovoltaic-system at TUM."
   ]
  },
  {
   "cell_type": "code",
   "execution_count": null,
   "metadata": {},
   "outputs": [],
   "source": [
    "df_solar = pd.read_csv(\"../data/pv_profile.csv\", index_col=0, parse_dates=True)"
   ]
  },
  {
   "cell_type": "code",
   "execution_count": null,
   "metadata": {},
   "outputs": [],
   "source": [
    "df_solar.plot(template=template, color_discrete_sequence=[\"#EF553B\"], labels={\"value\": \"Power [W]\"})"
   ]
  },
  {
   "cell_type": "code",
   "execution_count": null,
   "metadata": {},
   "outputs": [],
   "source": [
    "df_solar_ramp = df_solar.diff() \n",
    "df_solar_ramp = df_solar_ramp / df_solar.max() # MW / min -> p.u. / min\n",
    "df_solar_ramp.plot(template=template, color_discrete_sequence=[\"#EF553B\"], labels={\"value\": \"p.u. / min\"})"
   ]
  }
 ],
 "metadata": {
  "interpreter": {
   "hash": "8062df7c7545cf17a5e2a2318fdc0042fe07269ff0e9060ce028d79e49f182e9"
  },
  "kernelspec": {
   "display_name": "Python 3.9.7 ('nse-nb2')",
   "language": "python",
   "name": "python3"
  },
  "language_info": {
   "codemirror_mode": {
    "name": "ipython",
    "version": 3
   },
   "file_extension": ".py",
   "mimetype": "text/x-python",
   "name": "python",
   "nbconvert_exporter": "python",
   "pygments_lexer": "ipython3",
   "version": "3.9.7"
  },
  "orig_nbformat": 4
 },
 "nbformat": 4,
 "nbformat_minor": 2
}
