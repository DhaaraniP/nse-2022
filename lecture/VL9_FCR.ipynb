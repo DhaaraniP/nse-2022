{
 "cells": [
  {
   "cell_type": "markdown",
   "metadata": {},
   "source": [
    "# Lecture 9: Frequency Containment Reserve (FCR)\n",
    "\n",
    "This notebook explores the frequency containment reserve for grid scale battery energy storage systems (BESS).\n",
    "\n",
    "A techno-economic analysis is performed with the help of [simses](https://gitlab.lrz.de/open-ees-ses/simses) a simulation framework for stationary energy storage systems. The frequency profile is taken from the TSO 50Hertz, the data is from January 2019."
   ]
  },
  {
   "cell_type": "code",
   "execution_count": null,
   "metadata": {},
   "outputs": [],
   "source": [
    "import os\n",
    "import pandas as pd\n",
    "import plotly.graph_objects as go\n",
    "from plotly.subplots import make_subplots\n",
    "from simses.main import SimSES\n",
    "from configparser import ConfigParser"
   ]
  },
  {
   "cell_type": "code",
   "execution_count": null,
   "metadata": {},
   "outputs": [],
   "source": [
    "pd.options.plotting.backend = \"plotly\"\n",
    "# template = \"plotly_dark\"\n",
    "template = \"plotly_white\""
   ]
  },
  {
   "cell_type": "markdown",
   "metadata": {},
   "source": [
    "## Simulation parameters"
   ]
  },
  {
   "cell_type": "code",
   "execution_count": null,
   "metadata": {},
   "outputs": [],
   "source": [
    "power_fcr = 1.0e6 # W\n",
    "power_idm = 0.25e6 # W\n",
    "capacity  = 1.25e6 # Wh\n",
    "sim_params = f\"\"\"\n",
    "[GENERAL]\n",
    "START = 2014-01-01 00:00:00\n",
    "END = 2014-01-31 23:59:59\n",
    "TIME_STEP = 60\n",
    "LOOP = 1\n",
    "\n",
    "[ENERGY_MANAGEMENT]\n",
    "STRATEGY = FcrIdmRechargeStacked\n",
    "POWER_FCR = {power_fcr}\n",
    "POWER_IDM = {power_idm}\n",
    "FCR_RESERVE = 0.25\n",
    "\n",
    "[BATTERY]\n",
    "START_SOC = 0.5\n",
    "MIN_SOC = 0.0\n",
    "MAX_SOC = 1\n",
    "\n",
    "[STORAGE_SYSTEM]\n",
    "; Configuration of the AC storage system:\n",
    "; Format: AC-system name, max AC power in W, DC voltage level in V, ACDC converter name, housing name, HVAC name\n",
    "STORAGE_SYSTEM_AC =\n",
    "    system_1,{power_fcr + power_idm},333,notton,no_housing,no_hvac\n",
    "\n",
    "; Configuration of the AC/DC converter:\n",
    "; Format: ACDC converter name, converter type, optional: number of converters\n",
    "ACDC_CONVERTER =\n",
    "    notton,NottonAcDcConverter\n",
    "\n",
    "; Configuration of the DC storage system. Every AC system must have at least 1 DC system\n",
    "; Format: AC-system name, DCDC converter name, storage technology name\n",
    "STORAGE_SYSTEM_DC =\n",
    "   system_1,no_loss,lfp\n",
    "\n",
    "; Configuration of the DCDC converter\n",
    "; Format: DCDC converter name, converter type, [efficiency]\n",
    "DCDC_CONVERTER =\n",
    "    no_loss,NoLossDcDcConverter\n",
    "\n",
    "; Configuration of the storage technology.\n",
    "; Format: storage technology name, energy in Wh, technology type, [technology specific parameters]\n",
    "STORAGE_TECHNOLOGY =\n",
    "    lfp,{capacity},lithium_ion,SonyLFP\n",
    "\n",
    "[PROFILE]\n",
    "TECHNICAL_PROFILE_DIR = {os.path.abspath(\"../data\")}\n",
    "FREQUENCY_PROFILE = simses_frequency_profile_2014\n",
    "\n",
    "\"\"\"\n",
    "sim_config = ConfigParser()\n",
    "sim_config.read_string(sim_params)"
   ]
  },
  {
   "cell_type": "code",
   "execution_count": null,
   "metadata": {},
   "outputs": [],
   "source": [
    "path = os.path.abspath(\"..\")\n",
    "result_path = os.path.join(path, \"simses_results\").replace(\"\\\\\", \"/\") + \"/\""
   ]
  },
  {
   "cell_type": "markdown",
   "metadata": {},
   "source": [
    "## Run simulation"
   ]
  },
  {
   "cell_type": "code",
   "execution_count": null,
   "metadata": {},
   "outputs": [],
   "source": [
    "simses = SimSES(path=result_path, name=\"fcr\", simulation_config=sim_config)"
   ]
  },
  {
   "cell_type": "code",
   "execution_count": null,
   "metadata": {},
   "outputs": [],
   "source": [
    "simses.run()"
   ]
  },
  {
   "cell_type": "markdown",
   "metadata": {},
   "source": [
    "## Results and analysis"
   ]
  },
  {
   "cell_type": "code",
   "execution_count": null,
   "metadata": {},
   "outputs": [],
   "source": [
    "# results path\n",
    "results = os.path.join(result_path, \"fcr\")\n",
    "latest = os.listdir(results)[-1]\n",
    "results = os.path.join(results, latest).replace(\"\\\\\", \"/\")"
   ]
  },
  {
   "cell_type": "code",
   "execution_count": null,
   "metadata": {},
   "outputs": [],
   "source": [
    "df_sys = pd.read_csv(results + \"/SystemState.csv.gz\").drop_duplicates(\"Time in s\")\n",
    "df_ems = pd.read_csv(results + \"/EnergyManagementState.csv.gz\")\n",
    "df_lis = pd.read_csv(results + \"/LithiumIonState.csv.gz\")"
   ]
  },
  {
   "cell_type": "code",
   "execution_count": null,
   "metadata": {},
   "outputs": [],
   "source": [
    "# f = pd.read_csv(\"../data/simses_frequency_profile_50hz201901.csv\", header=None)[0]\n",
    "f = pd.read_csv(\"../data/simses_frequency_profile_2014.csv\", header=None)[0]"
   ]
  },
  {
   "cell_type": "code",
   "execution_count": null,
   "metadata": {},
   "outputs": [],
   "source": [
    "df = pd.DataFrame(\n",
    "    data = {\n",
    "        \"f\": f.values,\n",
    "        \"power\": -df_sys[\"AC_P_delivered in W\"].values,\n",
    "        \"soc\": df_sys[\"SOC in p.u.\"].values,\n",
    "    },\n",
    "    index = pd.date_range(start=\"2014-01-01\", end=\"2014-01-31 23:59\", freq=\"1Min\")\n",
    ")"
   ]
  },
  {
   "cell_type": "code",
   "execution_count": null,
   "metadata": {},
   "outputs": [],
   "source": [
    "def plot_fcr(df, inverse_power=False, show_deadband=False, **kwargs):\n",
    "    fig = make_subplots(specs=[[{\"secondary_y\": True}]])\n",
    "    fig.update_layout(height=500, **kwargs)\n",
    "\n",
    "    fig.add_trace(go.Scatter(x=df.index, y=df[\"f\"], name=\"f\"))\n",
    "    fig.update_yaxes(title=\"Frequency [Hz]\")\n",
    "    \n",
    "    fig.add_trace(go.Scatter(x=df.index, y=df[\"power\"], name=\"power\"), secondary_y=True)\n",
    "    fig.update_yaxes(title=\"Power [MW]\", secondary_y=True)\n",
    "\n",
    "    if show_deadband:\n",
    "        fdb = 10.0e-3\n",
    "        fig.add_hline(y = 50 - fdb, opacity=0.5, line_dash=\"dot\")\n",
    "        fig.add_hline(y = 50 + fdb, opacity=0.5, line_dash=\"dot\")\n",
    "    \n",
    "    f_max = 0.2 # max(abs(df[\"f\"] - 50))\n",
    "    fig.update_yaxes(range=[50-f_max, 50+f_max])\n",
    "\n",
    "    p_max = 1.0e6 # max(abs(df[\"power\"]))\n",
    "    fig.update_yaxes(range=[-p_max, p_max], secondary_y=True)\n",
    "    \n",
    "    if inverse_power:\n",
    "        fig.update_yaxes(range=[p_max, -p_max], secondary_y=True)\n",
    "\n",
    "    return fig"
   ]
  },
  {
   "cell_type": "code",
   "execution_count": null,
   "metadata": {},
   "outputs": [],
   "source": [
    "plot_fcr(df, show_deadband=True, inverse_power=False, template=template)"
   ]
  },
  {
   "cell_type": "code",
   "execution_count": null,
   "metadata": {},
   "outputs": [],
   "source": [
    "df[\"soc\"].plot(template=template, labels={\"value\": \"SOC in p.u.\", \"index\": \"Time\"}).update_yaxes(range=[0,1])"
   ]
  },
  {
   "cell_type": "code",
   "execution_count": null,
   "metadata": {},
   "outputs": [],
   "source": [
    "df[\"soc\"].plot.hist(template=template, labels={\"value\": \"SOC in p.u.\", \"index\": \"Time\"})"
   ]
  }
 ],
 "metadata": {
  "kernelspec": {
   "display_name": "Python 3.9.7 ('nse-nb2')",
   "language": "python",
   "name": "python3"
  },
  "language_info": {
   "codemirror_mode": {
    "name": "ipython",
    "version": 3
   },
   "file_extension": ".py",
   "mimetype": "text/x-python",
   "name": "python",
   "nbconvert_exporter": "python",
   "pygments_lexer": "ipython3",
   "version": "3.9.7"
  },
  "vscode": {
   "interpreter": {
    "hash": "6a41cf45b2bd78bebbe5ff69d73815f9ebec36634ee9b167acd479bf9a87d18c"
   }
  }
 },
 "nbformat": 4,
 "nbformat_minor": 4
}
