{
 "cells": [
  {
   "cell_type": "markdown",
   "metadata": {},
   "source": [
    "# Lecture 11: Arbitrage"
   ]
  },
  {
   "cell_type": "code",
   "execution_count": null,
   "metadata": {},
   "outputs": [],
   "source": [
    "import pandas as pd\n",
    "import pyomo.environ as opt\n",
    "import plotly.graph_objects as go\n",
    "from plotly.subplots import make_subplots"
   ]
  },
  {
   "cell_type": "code",
   "execution_count": null,
   "metadata": {},
   "outputs": [],
   "source": [
    "pd.options.plotting.backend = \"plotly\"\n",
    "template = \"plotly_white\""
   ]
  },
  {
   "cell_type": "markdown",
   "metadata": {},
   "source": [
    "## Data"
   ]
  },
  {
   "cell_type": "code",
   "execution_count": null,
   "metadata": {},
   "outputs": [],
   "source": [
    "df = pd.read_csv(\"../data/arbitrage_MDPI2019.csv\", index_col=0, parse_dates=True)"
   ]
  },
  {
   "cell_type": "code",
   "execution_count": null,
   "metadata": {},
   "outputs": [],
   "source": [
    "df.plot(template=template, line_shape=\"hv\", labels={\"value\": \"Price / €/MWh\"})"
   ]
  },
  {
   "cell_type": "markdown",
   "metadata": {},
   "source": [
    "## Optimization model"
   ]
  },
  {
   "cell_type": "code",
   "execution_count": null,
   "metadata": {},
   "outputs": [],
   "source": [
    "storage = dict(\n",
    "    capacity = 1, # MWh\n",
    "    soc_init = 0.5,\n",
    "    soc_min = 0.1,\n",
    "    soc_max = 0.9,\n",
    "    erate_ch = 1,\n",
    "    erate_dch = 1,\n",
    "    eff_ch = 0.95,\n",
    "    eff_dch = 0.95,\n",
    ")"
   ]
  },
  {
   "cell_type": "code",
   "execution_count": null,
   "metadata": {},
   "outputs": [],
   "source": [
    "def build_arbitrage_model(storage_params, profile):\n",
    "    # build model\n",
    "    model = opt.ConcreteModel()\n",
    "\n",
    "    # === Sets ====\n",
    "    n = len(df) #number of timesteps\n",
    "    dt = 0.25\n",
    "    model.time = opt.RangeSet(0, n-1)\n",
    "\n",
    "    # === Parameters ===\n",
    "    capacity = storage_params[\"capacity\"]\n",
    "    soc_init = storage_params[\"soc_init\"]\n",
    "    soc_min = storage_params[\"soc_min\"]\n",
    "    soc_max = storage_params[\"soc_max\"]\n",
    "    erate_ch = storage_params[\"erate_ch\"]\n",
    "    erate_dch = storage_params[\"erate_dch\"]\n",
    "    eff_ch = storage_params[\"eff_ch\"]\n",
    "    eff_dch = storage_params[\"eff_dch\"]\n",
    "\n",
    "    # === Variables ===\n",
    "    model.bess_energy = opt.Var(model.time, domain=opt.NonNegativeReals)\n",
    "    model.power_ch = opt.Var(model.time, domain=opt.NonNegativeReals)\n",
    "    model.power_dch = opt.Var(model.time, domain=opt.NonNegativeReals)\n",
    "\n",
    "    # === Objective ===\n",
    "    def objective_rule(m):\n",
    "        return sum((m.power_ch[t] - m.power_dch[t]) * dt * profile.price[t] for t in model.time)\n",
    "\n",
    "    model.obj = opt.Objective(sense=opt.minimize, rule=objective_rule)\n",
    "\n",
    "    # === Constraints ===\n",
    "    def power_charge_limit_rule(m, t):\n",
    "        return m.power_ch[t] <= capacity * erate_ch\n",
    "\n",
    "    def power_discharge_limit_rule(m, t):\n",
    "        return m.power_dch[t] <= capacity * erate_dch\n",
    "\n",
    "    def energy_max_rule(m, t):\n",
    "        return m.bess_energy[t] <= capacity * soc_max\n",
    "\n",
    "    def energy_min_rule(m, t):\n",
    "        return m.bess_energy[t] >= capacity * soc_min\n",
    "\n",
    "    def soc_balance_rule(m, t):\n",
    "        if t == m.time.first():\n",
    "            return m.bess_energy[t] == capacity * soc_init + m.power_ch[t] * eff_ch * dt - m.power_dch[t] * (1/eff_dch) * dt\n",
    "        else:\n",
    "            return m.bess_energy[t] == m.bess_energy[t-1] + m.power_ch[t] * eff_ch * dt - m.power_dch[t] * (1/eff_dch) * dt\n",
    "\n",
    "    def soc_end_rule(m):\n",
    "        return m.bess_energy[m.time.last()] >= capacity * soc_init\n",
    "\n",
    "    model.constraint_power_charge_limit    = opt.Constraint(model.time, rule=power_charge_limit_rule)\n",
    "    model.constraint_power_discharge_limit = opt.Constraint(model.time, rule=power_discharge_limit_rule)\n",
    "    model.constraint_energy_max            = opt.Constraint(model.time, rule=energy_max_rule)\n",
    "    model.constraint_energy_min            = opt.Constraint(model.time, rule=energy_min_rule)\n",
    "    model.constraint_soc_balance           = opt.Constraint(model.time, rule=soc_balance_rule)\n",
    "    model.constraint_soc_end               = opt.Constraint(rule=soc_end_rule)\n",
    "\n",
    "    return model"
   ]
  },
  {
   "cell_type": "markdown",
   "metadata": {},
   "source": [
    "## Results and analysis"
   ]
  },
  {
   "cell_type": "code",
   "execution_count": null,
   "metadata": {},
   "outputs": [],
   "source": [
    "solver = opt.SolverFactory(\"glpk\", tee=True)"
   ]
  },
  {
   "cell_type": "code",
   "execution_count": null,
   "metadata": {},
   "outputs": [],
   "source": [
    "model = build_arbitrage_model(storage, df)\n",
    "solver.solve(model, tee=False)"
   ]
  },
  {
   "cell_type": "code",
   "execution_count": null,
   "metadata": {},
   "outputs": [],
   "source": [
    "# write results in dataframe\n",
    "capacity = storage[\"capacity\"]\n",
    "\n",
    "df[\"power\"] = [opt.value(model.power_ch[t]) - opt.value(model.power_dch[t]) for t in model.time]\n",
    "df[\"soc\"] = [opt.value(model.bess_energy[t]) / capacity for t in model.time]"
   ]
  },
  {
   "cell_type": "code",
   "execution_count": null,
   "metadata": {},
   "outputs": [],
   "source": [
    "def plot_bess_power(df, **kwargs):\n",
    "    fig = make_subplots(specs=[[{\"secondary_y\": True}]])\n",
    "    fig.update_layout(**kwargs)\n",
    "\n",
    "    fig.add_trace(go.Scatter(x=df.index, y=df[\"power\"], name=\"power\", line_shape=\"hv\"))\n",
    "    fig.update_yaxes(title=\"Power [MW]\")\n",
    "    fig.add_trace(go.Scatter(x=df.index, y=df[\"soc\"], name=\"SOC\", line_shape=\"hv\"))\n",
    "    fig.update_yaxes(title=\"SOC\")\n",
    "\n",
    "    fig.add_trace(go.Scatter(x=df.index, y=df[\"price\"], name=\"price\", line_shape=\"hv\"), secondary_y=True)\n",
    "    fig.update_yaxes(title=\"Price [€/MWh]\", secondary_y=True)\n",
    "\n",
    "    return fig"
   ]
  },
  {
   "cell_type": "code",
   "execution_count": null,
   "metadata": {},
   "outputs": [],
   "source": [
    "plot_bess_power(df, template=template)"
   ]
  }
 ],
 "metadata": {
  "kernelspec": {
   "display_name": "Python 3.8.13 ('nse-nb')",
   "language": "python",
   "name": "python3"
  },
  "language_info": {
   "codemirror_mode": {
    "name": "ipython",
    "version": 3
   },
   "file_extension": ".py",
   "mimetype": "text/x-python",
   "name": "python",
   "nbconvert_exporter": "python",
   "pygments_lexer": "ipython3",
   "version": "3.8.13"
  },
  "orig_nbformat": 4,
  "vscode": {
   "interpreter": {
    "hash": "744c838c1680c714b18781c2ed56c965519de5ac6338a35705041f0f759d9333"
   }
  }
 },
 "nbformat": 4,
 "nbformat_minor": 2
}
