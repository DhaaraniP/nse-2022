{
 "cells": [
  {
   "cell_type": "markdown",
   "metadata": {
    "collapsed": true,
    "pycharm": {
     "name": "#%% md\n"
    }
   },
   "source": [
    "# Lecture 8: Home storage systems & operational strategies\n",
    "\n",
    "This notebook explores two different operational strategies to improve a household's PV self-consumption with home battery storage systems: \n",
    "* The *greedy* strategy, which charges and discharges the storage whenever available and\n",
    "* the *feed-in damp*, which aims to limit the power feed during peak PV generation.\n",
    "\n",
    "A techno-economic analysis is performed with the help of [simses](https://gitlab.lrz.de/open-ees-ses/simses) a simulation framework for stationary energy storage systems."
   ]
  },
  {
   "cell_type": "code",
   "execution_count": null,
   "metadata": {},
   "outputs": [],
   "source": [
    "import os\n",
    "import pandas as pd\n",
    "\n",
    "from simses.main import SimSES\n",
    "from configparser import ConfigParser"
   ]
  },
  {
   "cell_type": "code",
   "execution_count": null,
   "metadata": {},
   "outputs": [],
   "source": [
    "pd.options.plotting.backend = \"plotly\"\n",
    "# template = \"plotly_dark\"\n",
    "template = \"plotly_white\""
   ]
  },
  {
   "cell_type": "markdown",
   "metadata": {},
   "source": [
    "# Greedy strategy"
   ]
  },
  {
   "cell_type": "markdown",
   "metadata": {},
   "source": [
    "### Simulation parameters"
   ]
  },
  {
   "cell_type": "code",
   "execution_count": null,
   "metadata": {},
   "outputs": [],
   "source": [
    "power    = 3000 # W\n",
    "capacity = 13500 # Wh\n",
    "loop_years = 10 # a - number of years to simulate via repetetive one-year profile execution\n",
    "\n",
    "electricity_consumption = 5e6 # Yearly energy consumption in Wh\n",
    "pv_installed_capacity = 7e3   # PV peak-power in W\n",
    "\n",
    "sim_params = f\"\"\"\n",
    "[GENERAL]\n",
    "START = 2014-01-01 00:00:00\n",
    "END = 2014-12-31 23:59:59\n",
    "TIME_STEP = 3600\n",
    "LOOP = {loop_years}\n",
    "\n",
    "[ENERGY_MANAGEMENT]\n",
    "STRATEGY = ResidentialPvGreedy\n",
    "\n",
    "[BATTERY]\n",
    "START_SOC = 0.5\n",
    "MIN_SOC = 0.1\n",
    "MAX_SOC = 0.85\n",
    "\n",
    "[STORAGE_SYSTEM]\n",
    "; Configuration of the AC storage system:\n",
    "; Format: AC-system name, max AC power in W, DC voltage level in V, ACDC converter name, housing name, HVAC name\n",
    "STORAGE_SYSTEM_AC =\n",
    "    system_1,{power},333,notton,no_housing,no_hvac\n",
    "\n",
    "; Configuration of the AC/DC converter:\n",
    "; Format: ACDC converter name, converter type, optional: number of converters\n",
    "ACDC_CONVERTER =\n",
    "    notton,NottonAcDcConverter\n",
    "\n",
    "; Configuration of the DC storage system. Every AC system must have at least 1 DC system\n",
    "; Format: AC-system name, DCDC converter name, storage technology name\n",
    "STORAGE_SYSTEM_DC =\n",
    "   system_1,no_loss,nmc\n",
    "\n",
    "; Configuration of the DCDC converter\n",
    "; Format: DCDC converter name, converter type, [efficiency]\n",
    "DCDC_CONVERTER =\n",
    "    no_loss,NoLossDcDcConverter\n",
    "\n",
    "; Configuration of the storage technology.\n",
    "; Format: storage technology name, energy in Wh, technology type, [technology specific parameters]\n",
    "STORAGE_TECHNOLOGY =\n",
    "    nmc,{capacity},lithium_ion,SanyoNMC\n",
    "\n",
    "[PROFILE]\n",
    "POWER_PROFILE_DIR = {os.path.abspath(\"../data\")}\n",
    "LOAD_PROFILE = simses_load_profile\n",
    "GENERATION_PROFILE = simses_pv_profile\n",
    "\n",
    "LOAD_SCALING_FACTOR = {electricity_consumption}\n",
    "GENERATION_SCALING_FACTOR = {pv_installed_capacity}\n",
    "\"\"\"\n",
    "sim_config = ConfigParser()\n",
    "sim_config.read_string(sim_params)"
   ]
  },
  {
   "cell_type": "code",
   "execution_count": null,
   "metadata": {},
   "outputs": [],
   "source": [
    "investment_costs = 6875  # €\n",
    "electricity_price = 0.32 # €/kWh\n",
    "pv_feedin_tariff = 0.065 # €/kWh\n",
    "discount_rate = 0.02\n",
    "\n",
    "analysis_params = f\"\"\"\n",
    "[ECONOMIC_ANALYSIS]\n",
    ";Costs in Euro\n",
    "INVESTMENT_COSTS = {investment_costs}\n",
    "USE_SPECIFIC_COSTS = False\n",
    "\n",
    "ELECTRICITY_PRICE = {electricity_price}\n",
    "PV_FEED_IN_TARIFF = {pv_feedin_tariff}\n",
    "\n",
    "DISCOUNT_RATE = {discount_rate}\n",
    "\"\"\"\n",
    "analysis_config = ConfigParser()\n",
    "analysis_config.read_string(analysis_params)"
   ]
  },
  {
   "cell_type": "code",
   "execution_count": null,
   "metadata": {},
   "outputs": [],
   "source": [
    "path = os.path.abspath(\"..\")\n",
    "result_path = os.path.join(path, \"simses_results\").replace(\"\\\\\", \"/\") + \"/\""
   ]
  },
  {
   "cell_type": "markdown",
   "metadata": {},
   "source": [
    "### Run simulation"
   ]
  },
  {
   "cell_type": "code",
   "execution_count": null,
   "metadata": {},
   "outputs": [],
   "source": [
    "simses = SimSES(path=result_path, name=\"greedy\", simulation_config=sim_config, analysis_config=analysis_config)"
   ]
  },
  {
   "cell_type": "code",
   "execution_count": null,
   "metadata": {},
   "outputs": [],
   "source": [
    "simses.run()"
   ]
  },
  {
   "cell_type": "markdown",
   "metadata": {},
   "source": [
    "### Load results"
   ]
  },
  {
   "cell_type": "code",
   "execution_count": null,
   "metadata": {},
   "outputs": [],
   "source": [
    "# results path\n",
    "results_greedy = os.path.join(result_path, \"greedy\")\n",
    "latest = os.listdir(results_greedy)[-1]\n",
    "results_greedy = os.path.join(results_greedy, latest).replace(\"\\\\\", \"/\")"
   ]
  },
  {
   "cell_type": "code",
   "execution_count": null,
   "metadata": {},
   "outputs": [],
   "source": [
    "df_greedy_sys = pd.read_csv(results_greedy + \"/SystemState.csv.gz\").drop_duplicates(\"Time in s\")\n",
    "df_greedy_ems = pd.read_csv(results_greedy + \"/EnergyManagementState.csv.gz\")\n",
    "df_greedy_lis = pd.read_csv(results_greedy + \"/LithiumIonState.csv.gz\")"
   ]
  },
  {
   "cell_type": "code",
   "execution_count": null,
   "metadata": {},
   "outputs": [],
   "source": [
    "time = df_greedy_ems[\"Time in s\"]\n",
    "load = df_greedy_ems[\"Load in W\"].values\n",
    "pv_gen = df_greedy_ems[\"PV Generation in W\"].values\n",
    "residual_damp = load - pv_gen\n",
    "\n",
    "power_greedy = df_greedy_sys[\"AC_P_delivered in W\"].values\n",
    "soc_greedy   = df_greedy_sys[\"SOC in p.u.\"].values\n",
    "\n",
    "df_greedy = pd.DataFrame(\n",
    "    data={\n",
    "        \"Residual in W\": residual_damp,\n",
    "        \"Storage power in W\": -power_greedy,\n",
    "        \"Storage SOC in p.u.\": soc_greedy,\n",
    "        \"Grid power in W\": residual_damp + power_greedy\n",
    "    },\n",
    "    index = pd.to_datetime(time, unit=\"s\")\n",
    ")"
   ]
  },
  {
   "cell_type": "markdown",
   "metadata": {},
   "source": [
    "## Feed-in damp"
   ]
  },
  {
   "cell_type": "markdown",
   "metadata": {},
   "source": [
    "### Parametrize and run simulation"
   ]
  },
  {
   "cell_type": "code",
   "execution_count": null,
   "metadata": {},
   "outputs": [],
   "source": [
    "sim_config.set(\"ENERGY_MANAGEMENT\", \"STRATEGY\", \"ResidentialPvFeedInDamp\")\n",
    "simses = SimSES(path=result_path, name=\"feedindamp\", simulation_config=sim_config, analysis_config=analysis_config)"
   ]
  },
  {
   "cell_type": "code",
   "execution_count": null,
   "metadata": {},
   "outputs": [],
   "source": [
    "simses.run()"
   ]
  },
  {
   "cell_type": "markdown",
   "metadata": {},
   "source": [
    "### Load results"
   ]
  },
  {
   "cell_type": "code",
   "execution_count": null,
   "metadata": {},
   "outputs": [],
   "source": [
    "results_damp = os.path.join(result_path, \"feedindamp\")\n",
    "latest = os.listdir(results_damp)[-1]\n",
    "results_damp = os.path.join(results_damp, latest).replace(\"\\\\\", \"/\")"
   ]
  },
  {
   "cell_type": "code",
   "execution_count": null,
   "metadata": {},
   "outputs": [],
   "source": [
    "df_damp_sys = pd.read_csv(results_damp + \"/SystemState.csv.gz\").drop_duplicates(\"Time in s\")\n",
    "df_damp_ems = pd.read_csv(results_damp + \"/EnergyManagementState.csv.gz\")\n",
    "df_damp_lis = pd.read_csv(results_damp + \"/LithiumIonState.csv.gz\")"
   ]
  },
  {
   "cell_type": "code",
   "execution_count": null,
   "metadata": {},
   "outputs": [],
   "source": [
    "time = df_damp_ems[\"Time in s\"]\n",
    "load = df_damp_ems[\"Load in W\"].values\n",
    "pv_gen = df_damp_ems[\"PV Generation in W\"].values\n",
    "residual_damp = load - pv_gen\n",
    "\n",
    "power_damp = df_damp_sys[\"AC_P_delivered in W\"].values\n",
    "soc_damp   = df_damp_sys[\"SOC in p.u.\"].values\n",
    "\n",
    "df_damp = pd.DataFrame(\n",
    "    data={\n",
    "        \"Residual in W\": residual_damp,\n",
    "        \"Storage power in W\": -power_damp,\n",
    "        \"Storage SOC in p.u.\": soc_damp,\n",
    "        \"Grid power in W\": residual_damp + power_damp\n",
    "    },\n",
    "    index = pd.to_datetime(time, unit=\"s\")\n",
    ")"
   ]
  },
  {
   "cell_type": "markdown",
   "metadata": {},
   "source": [
    "## Analysis"
   ]
  },
  {
   "cell_type": "code",
   "execution_count": null,
   "metadata": {},
   "outputs": [],
   "source": [
    "# join results in a single dataframe\n",
    "df = df_greedy.join(\n",
    "    df_damp[[\"Storage power in W\", \"Storage SOC in p.u.\", \"Grid power in W\"]], \n",
    "    lsuffix=\" (Greedy)\", \n",
    "    rsuffix=\" (Feed-in Damp)\"\n",
    ")"
   ]
  },
  {
   "cell_type": "markdown",
   "metadata": {},
   "source": [
    "### Storage power"
   ]
  },
  {
   "cell_type": "code",
   "execution_count": null,
   "metadata": {},
   "outputs": [],
   "source": [
    "df[[\"Residual in W\", \"Storage power in W (Greedy)\", \"Storage power in W (Feed-in Damp)\"]].plot(template=template, labels={\"value\": \"Storage power in W\"})"
   ]
  },
  {
   "cell_type": "code",
   "execution_count": null,
   "metadata": {},
   "outputs": [],
   "source": [
    "df[[\"Storage power in W (Greedy)\", \"Storage power in W (Feed-in Damp)\"]].plot.hist(template=template, log_y=True, labels={\"value\": \"Storage power in W\"}).update_layout(barmode='overlay').update_traces(opacity=0.75)"
   ]
  },
  {
   "cell_type": "markdown",
   "metadata": {},
   "source": [
    "### State of Charge (SOC)"
   ]
  },
  {
   "cell_type": "code",
   "execution_count": null,
   "metadata": {},
   "outputs": [],
   "source": [
    "df[[\"Storage SOC in p.u. (Greedy)\", \"Storage SOC in p.u. (Feed-in Damp)\"]].plot(template=template, labels={\"value\": \"SOC in p.u.\"})"
   ]
  },
  {
   "cell_type": "code",
   "execution_count": null,
   "metadata": {},
   "outputs": [],
   "source": [
    "df[[\"Storage SOC in p.u. (Greedy)\", \"Storage SOC in p.u. (Feed-in Damp)\"]].plot.hist(template=template, log_y=True, labels={\"value\": \"SOC in p.u.\"}).update_layout(barmode='overlay').update_traces(opacity=0.75)\n"
   ]
  },
  {
   "cell_type": "markdown",
   "metadata": {},
   "source": [
    "### Grid power"
   ]
  },
  {
   "cell_type": "code",
   "execution_count": null,
   "metadata": {},
   "outputs": [],
   "source": [
    "df[[\"Grid power in W (Greedy)\", \"Grid power in W (Feed-in Damp)\"]].plot(template=template, labels={\"value\": \"Grid power in W\"})"
   ]
  },
  {
   "cell_type": "code",
   "execution_count": null,
   "metadata": {},
   "outputs": [],
   "source": [
    "df[[\"Grid power in W (Greedy)\", \"Grid power in W (Feed-in Damp)\"]].plot.hist(template=template, log_y=True, labels={\"value\": \"Grid power in W\"}).update_layout(barmode='overlay').update_traces(opacity=0.75)"
   ]
  }
 ],
 "metadata": {
  "interpreter": {
   "hash": "6a41cf45b2bd78bebbe5ff69d73815f9ebec36634ee9b167acd479bf9a87d18c"
  },
  "kernelspec": {
   "display_name": "Python 3.9.7 ('nse-nb2')",
   "language": "python",
   "name": "python3"
  },
  "language_info": {
   "codemirror_mode": {
    "name": "ipython",
    "version": 3
   },
   "file_extension": ".py",
   "mimetype": "text/x-python",
   "name": "python",
   "nbconvert_exporter": "python",
   "pygments_lexer": "ipython3",
   "version": "3.9.7"
  }
 },
 "nbformat": 4,
 "nbformat_minor": 0
}
